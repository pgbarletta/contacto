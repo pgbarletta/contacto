{
 "cells": [
  {
   "cell_type": "code",
   "execution_count": 2,
   "metadata": {},
   "outputs": [
    {
     "data": {
      "text/plain": [
       "1989"
      ]
     },
     "execution_count": 2,
     "metadata": {},
     "output_type": "execute_result"
    }
   ],
   "source": [
    "using Revise\n",
    "using Chemfiles\n",
    "using contacto\n",
    "using StaticArrays\n",
    "\n",
    "in_trj = Trajectory(\"/home/german/labo/contacto/aux/1mtn.pdb\")\n",
    "in_frm = read(in_trj)\n",
    "in_top = Topology(in_frm)\n",
    "coords = round.(positions(in_frm), digits = 3)\n",
    "natoms = size(coords)[2]"
   ]
  },
  {
   "cell_type": "code",
   "execution_count": 3,
   "metadata": {},
   "outputs": [
    {
     "data": {
      "text/plain": [
       "contacto.Voxel([-10.285, 26.147, -25.168], [-37.785 -37.785 … 17.215 17.215; -1.353 -1.353 … 53.647 53.647; -52.668 2.332 … -52.668 2.332], 27.5, 0, contacto.Voxel(#undef, #undef, 6.9195288163878e-310, 0, #undef, #undef), contacto.Voxel[Voxel(#undef, #undef, 6.91953e-310, 0, #undef, #undef), Voxel(#undef, #undef, 6.91953e-310, 0, #undef, #undef), Voxel(#undef, #undef, 6.91953e-310, 0, #undef, #undef), Voxel(#undef, #undef, 6.91953e-310, 0, #undef, #undef), Voxel(#undef, #undef, 6.91953e-310, 0, #undef, #undef), Voxel(#undef, #undef, 6.91953e-310, 0, #undef, #undef), Voxel(#undef, #undef, 6.91953e-310, 0, #undef, #undef), Voxel(#undef, #undef, 6.91953e-310, 0, #undef, #undef)])"
      ]
     },
     "execution_count": 3,
     "metadata": {},
     "output_type": "execute_result"
    }
   ],
   "source": [
    "cutoff = round(5., digits = 3)\n",
    "resolution = .1\n",
    "t_xyz = transpose(coords)\n",
    "\n",
    "srt_idx_t_xyz = hcat(sortperm(t_xyz[:, 1]), sortperm(t_xyz[:, 2]), sortperm(t_xyz[:, 3]));\n",
    "\n",
    "srt_x_t_xyz = t_xyz[srt_idx_t_xyz[:, 1], 1]\n",
    "srt_y_t_xyz = t_xyz[srt_idx_t_xyz[:, 2], 2]\n",
    "srt_z_t_xyz = t_xyz[srt_idx_t_xyz[:, 3], 3]\n",
    "\n",
    "\n",
    "x_min = srt_x_t_xyz[1]\n",
    "x_max = srt_x_t_xyz[end]\n",
    "y_min = srt_y_t_xyz[1]\n",
    "y_max = srt_y_t_xyz[end]\n",
    "z_min = srt_z_t_xyz[1]\n",
    "z_max = srt_z_t_xyz[end]\n",
    "\n",
    "espacio = [ x_max - x_min ; y_max - y_min ; z_max - z_min ]\n",
    "\n",
    "ctro = round.([ x_min + espacio[1]/2, y_min + espacio[2]/2,  z_min + espacio[3]/2 ], digits = 3)\n",
    "\n",
    "ncells = convert(Int64, ceil(maximum(espacio) / cutoff))\n",
    "\n",
    "dim = ncells * cutoff\n",
    "\n",
    "half_dim = round(dim / 2, digits = 3)\n",
    "\n",
    "sa = contacto.Voxel(ctro, half_dim, 0)"
   ]
  },
  {
   "cell_type": "code",
   "execution_count": 143,
   "metadata": {},
   "outputs": [],
   "source": [
    "nlevels = convert(Int64, floor(log2(ncells)))\n",
    "nnodes = sum([ 2^x for x in 1:(nlevels) ]) ; resto = (ncells - 2^(nlevels)) * 2 ; nnodes += resto\n",
    "nodes = Array{Int64}(undef, nnodes+1);\n",
    "\n",
    "nodes_anchos = Array{Array{Int64, 1}, 1}(undef, nlevels+1)\n",
    "nodes_anchos[1] = [ncells]\n",
    "nodes_ranges = Array{Array{Tuple{Int64,Int64}, 1}, 1}(undef, nlevels+1)\n",
    "nodes_ranges[1] = [(0, ncells)]\n",
    "nodes_bounds = Array{Array{Int64, 1}, 1}(undef, nlevels+1)\n",
    "nodes_bounds[1] = [ncells]\n",
    "\n",
    "let i = 1, j = 1; for i = 1:nlevels\n",
    "    k = i + 1\n",
    "    nodes_anchos[k] = []\n",
    "    nodes_ranges[k] = []\n",
    "    nodes_bounds[k] = []\n",
    "    prev = 0\n",
    "    for j = 1:2^(i-1)\n",
    "        \n",
    "        lh_node_ancho = convert(Int64, ceil(nodes_anchos[i][j] / 2))\n",
    "        rh_node_ancho = nodes_anchos[i][j] - lh_node_ancho\n",
    "        push!(nodes_anchos[k], lh_node_ancho)\n",
    "        push!(nodes_anchos[k], rh_node_ancho)\n",
    "        \n",
    "        rango = nodes_ranges[i][j][2] - nodes_ranges[i][j][1]\n",
    "        lh_node_rango = convert(Int64, ceil(rango / 2)) + prev\n",
    "        rh_node_rango = rango + prev\n",
    "        push!(nodes_ranges[k], (prev, lh_node_rango))\n",
    "        push!(nodes_ranges[k], (lh_node_rango, rh_node_rango))\n",
    "        prev = rh_node_rango\n",
    "        \n",
    "        push!(nodes_bounds[k], lh_node_rango)\n",
    "       \n",
    "    end\n",
    "end\n",
    "end"
   ]
  },
  {
   "cell_type": "code",
   "execution_count": 11,
   "metadata": {},
   "outputs": [
    {
     "data": {
      "text/plain": [
       "4-element Array{Array{Int64,1},1}:\n",
       " [11]                    \n",
       " [6, 5]                  \n",
       " [3, 3, 3, 2]            \n",
       " [2, 1, 2, 1, 2, 1, 1, 1]"
      ]
     },
     "execution_count": 11,
     "metadata": {},
     "output_type": "execute_result"
    }
   ],
   "source": [
    "nodes_anchos"
   ]
  },
  {
   "cell_type": "code",
   "execution_count": 12,
   "metadata": {},
   "outputs": [
    {
     "data": {
      "text/plain": [
       "4-element Array{Array{Tuple{Int64,Int64},1},1}:\n",
       " [(0, 11)]                                                          \n",
       " [(0, 6), (6, 11)]                                                  \n",
       " [(0, 3), (3, 6), (6, 9), (9, 11)]                                  \n",
       " [(0, 2), (2, 3), (3, 5), (5, 6), (6, 8), (8, 9), (9, 10), (10, 11)]"
      ]
     },
     "execution_count": 12,
     "metadata": {},
     "output_type": "execute_result"
    }
   ],
   "source": [
    "nodes_ranges"
   ]
  },
  {
   "cell_type": "code",
   "execution_count": 184,
   "metadata": {},
   "outputs": [
    {
     "data": {
      "text/plain": [
       "4-element Array{Array{Int64,1},1}:\n",
       " [11]         \n",
       " [6]          \n",
       " [3, 9]       \n",
       " [2, 5, 8, 10]"
      ]
     },
     "execution_count": 184,
     "metadata": {},
     "output_type": "execute_result"
    }
   ],
   "source": [
    "nodes_bounds"
   ]
  },
  {
   "cell_type": "code",
   "execution_count": 189,
   "metadata": {},
   "outputs": [
    {
     "data": {
      "text/plain": [
       "4-element Array{Int64,1}:\n",
       "  2\n",
       "  5\n",
       "  8\n",
       " 10"
      ]
     },
     "execution_count": 189,
     "metadata": {},
     "output_type": "execute_result"
    }
   ],
   "source": [
    "nodes_bounds[k]"
   ]
  },
  {
   "cell_type": "code",
   "execution_count": 243,
   "metadata": {},
   "outputs": [
    {
     "data": {
      "text/plain": [
       "1-element Array{UnitRange{Int64},1}:\n",
       " 1:1989"
      ]
     },
     "execution_count": 243,
     "metadata": {},
     "output_type": "execute_result"
    }
   ],
   "source": [
    "nodes_indices_x = Array{Array{UnitRange{Int64}, 1}, 1}(undef, nlevels+1)\n",
    "nodes_indices_x[1] = [1:natoms]\n",
    "nodes_indices_y = Array{Array{UnitRange{Int64}, 1}, 1}(undef, nlevels+1)\n",
    "nodes_indices_y[1] = [1:natoms]\n",
    "nodes_indices_z = Array{Array{UnitRange{Int64}, 1}, 1}(undef, nlevels+1)\n",
    "nodes_indices_z[1] = [1:natoms]"
   ]
  },
  {
   "cell_type": "code",
   "execution_count": 245,
   "metadata": {},
   "outputs": [
    {
     "name": "stderr",
     "output_type": "stream",
     "text": [
      "┌ Warning: Deprecated syntax `implicit assignment to global variable `i``.\n",
      "│ Use `global i` instead.\n",
      "└ @ nothing none:0\n",
      "┌ Warning: Deprecated syntax `implicit assignment to global variable `j``.\n",
      "│ Use `global j` instead.\n",
      "└ @ nothing none:0\n",
      "┌ Warning: Loop variable `i` around In[245]:1 overwrites a variable in an enclosing scope. In the future the variable will be local to the loop instead.\n",
      "└ @ nothing In[245]:1\n",
      "┌ Warning: Loop variable `j` around In[245]:6 overwrites a variable in an enclosing scope. In the future the variable will be local to the loop instead.\n",
      "└ @ nothing In[245]:6\n"
     ]
    }
   ],
   "source": [
    "for i = 1:nlevels\n",
    "    k = i + 1\n",
    "    nodes_indices_x[k] = []\n",
    "    nodes_indices_y[k] = []\n",
    "    nodes_indices_z[k] = []\n",
    "    for j = 1:2^(i-1)\n",
    "        x_boundary = searchsortedlast(srt_x_t_xyz[nodes_indices_x[i][j]],\n",
    "            (x_min + cutoff * nodes_bounds[k][j])) +\n",
    "        nodes_indices_x[i][j].start - 1\n",
    "        \n",
    "        push!(nodes_indices_x[k],\n",
    "            nodes_indices_x[i][j].start:x_boundary - 1)\n",
    "        push!(nodes_indices_x[k],\n",
    "            x_boundary:nodes_indices_x[i][j].stop)\n",
    "        \n",
    "        y_boundary = searchsortedlast(srt_y_t_xyz[nodes_indices_y[i][j]],\n",
    "            (y_min + cutoff * nodes_bounds[k][j])) +\n",
    "        nodes_indices_y[i][j].start - 1\n",
    "        \n",
    "        push!(nodes_indices_y[k],\n",
    "            nodes_indices_y[i][j].start:y_boundary - 1)\n",
    "        push!(nodes_indices_y[k],\n",
    "            y_boundary:nodes_indices_y[i][j].stop)\n",
    "\n",
    "        z_boundary = searchsortedlast(srt_z_t_xyz[nodes_indices_z[i][j]],\n",
    "            (z_min + cutoff * nodes_bounds[k][j])) +\n",
    "        nodes_indices_z[i][j].start - 1\n",
    "        \n",
    "        push!(nodes_indices_z[k],\n",
    "            nodes_indices_z[i][j].start:z_boundary - 1)\n",
    "        push!(nodes_indices_z[k],\n",
    "            z_boundary:nodes_indices_z[i][j].stop)\n",
    "    end\n",
    "end"
   ]
  },
  {
   "cell_type": "code",
   "execution_count": 246,
   "metadata": {},
   "outputs": [
    {
     "data": {
      "text/plain": [
       "4-element Array{Array{UnitRange{Int64},1},1}:\n",
       " [1:1989]                                                                   \n",
       " [1:744, 745:1989]                                                          \n",
       " [1:126, 127:744, 745:1719, 1720:1989]                                      \n",
       " [1:61, 62:126, 127:468, 469:744, 745:1453, 1454:1719, 1720:1924, 1925:1989]"
      ]
     },
     "execution_count": 246,
     "metadata": {},
     "output_type": "execute_result"
    }
   ],
   "source": [
    "nodes_indices_x"
   ]
  },
  {
   "cell_type": "code",
   "execution_count": 247,
   "metadata": {},
   "outputs": [
    {
     "data": {
      "text/plain": [
       "4-element Array{Array{UnitRange{Int64},1},1}:\n",
       " [1:1989]                                                                         \n",
       " [1:1872, 1873:1989]                                                              \n",
       " [1:795, 796:1872, 1873:1988, 1989:1989]                                          \n",
       " [1:349, 350:795, 796:1623, 1624:1872, 1873:1987, 1988:1988, 1989:1988, 1989:1989]"
      ]
     },
     "execution_count": 247,
     "metadata": {},
     "output_type": "execute_result"
    }
   ],
   "source": [
    "nodes_indices_y"
   ]
  },
  {
   "cell_type": "code",
   "execution_count": 248,
   "metadata": {},
   "outputs": [
    {
     "data": {
      "text/plain": [
       "4-element Array{Array{UnitRange{Int64},1},1}:\n",
       " [1:1989]                                                                         \n",
       " [1:1900, 1901:1989]                                                              \n",
       " [1:740, 741:1900, 1901:1988, 1989:1989]                                          \n",
       " [1:208, 209:740, 741:1652, 1653:1900, 1901:1987, 1988:1988, 1989:1988, 1989:1989]"
      ]
     },
     "execution_count": 248,
     "metadata": {},
     "output_type": "execute_result"
    }
   ],
   "source": [
    "nodes_indices_z"
   ]
  },
  {
   "cell_type": "code",
   "execution_count": 88,
   "metadata": {},
   "outputs": [
    {
     "data": {
      "text/plain": [
       "1-element Array{Int64,1}:\n",
       " 27"
      ]
     },
     "execution_count": 88,
     "metadata": {},
     "output_type": "execute_result"
    }
   ],
   "source": [
    "idx_xy = findall(x -> x == tmp_srt_idx_t_xyz_y[lado_y][i],\n",
    "            tmp_srt_idx_t_xyz_x[lado_x])"
   ]
  },
  {
   "cell_type": "code",
   "execution_count": null,
   "metadata": {},
   "outputs": [],
   "source": [
    "y_md_bound = searchsortedlast(srt_y_t_xyz[nodes_indices[i][j]],\n",
    "    (y_min + cutoff * nodes_bounds[k][j]))\n",
    "z_md_bound = searchsortedlast(srt_z_t_xyz[nodes_indices[i][j]],\n",
    "    (z_min + cutoff * nodes_bounds[k][j]))"
   ]
  },
  {
   "cell_type": "code",
   "execution_count": 100,
   "metadata": {},
   "outputs": [
    {
     "data": {
      "text/plain": [
       "4-element Array{Array{Int64,1},1}:\n",
       " [11]                    \n",
       " [6, 5]                  \n",
       " [3, 3, 3, 2]            \n",
       " [2, 1, 2, 1, 2, 1, 1, 1]"
      ]
     },
     "execution_count": 100,
     "metadata": {},
     "output_type": "execute_result"
    }
   ],
   "source": [
    "lado_y = 1\n",
    "for i = 1:length(tmp_srt_idx_t_xyz_y[lado_y])\n",
    "    lado_x = 1\n",
    "    idx_xy = findall(x -> x == tmp_srt_idx_t_xyz_y[lado_y][i],\n",
    "            tmp_srt_idx_t_xyz_x[lado_x])\n",
    "    \n",
    "    lado_z = 1\n",
    "    if isempty(idx_xy)\n",
    "    # está en -x, -y, \n",
    "        idx_zy = findall(z -> z == tmp_srt_idx_t_xyz_y[lado_y][i],\n",
    "            tmp_srt_idx_t_xyz_z[lado_z])\n",
    "        \n",
    "        if isempty(idx_yz)\n",
    "        # está en -x, -y, -z\n",
    "            \n",
    "        else\n",
    "            \n",
    "        end\n",
    "    \n",
    "        \n",
    "    else\n",
    "        \n",
    "        if  srt_idx_t_xyz[x_lh_bound:x_rh_bound, 1][idx_xy] ==\n",
    "        srt_idx_t_xyz[y_lh_bound:y_rh_bound, 2][i]\n",
    "        \n",
    "            lado_z = 1\n",
    "                \n",
    "            idx_zy = searchsortedlast(srt_idx_t_xyz[z_lh_bound:z_rh_bound, 3],\n",
    "                srt_idx_t_xyz[y_lh_bound:y_rh_bound, 2][i])\n",
    "            if idx_zy != 0\n",
    "                if  srt_idx_t_xyz[z_lh_bound:z_rh_bound, 3][idx_zy] ==\n",
    "                srt_idx_t_xyz[y_lh_bound:y_rh_bound, 2][i]\n",
    "                \n",
    "                    push!(octant_0, i)\n",
    "                end\n",
    "            end\n",
    "        end\n",
    "    end\n",
    "end"
   ]
  },
  {
   "cell_type": "code",
   "execution_count": 5,
   "metadata": {},
   "outputs": [
    {
     "data": {
      "text/plain": [
       "4-element Array{Array{Int64,1},1}:\n",
       " [11]                    \n",
       " [6, 5]                  \n",
       " [3, 3, 3, 2]            \n",
       " [2, 1, 2, 1, 2, 1, 1, 1]"
      ]
     },
     "execution_count": 5,
     "metadata": {},
     "output_type": "execute_result"
    }
   ],
   "source": []
  },
  {
   "cell_type": "code",
   "execution_count": null,
   "metadata": {},
   "outputs": [],
   "source": []
  },
  {
   "cell_type": "code",
   "execution_count": null,
   "metadata": {},
   "outputs": [],
   "source": []
  }
 ],
 "metadata": {
  "kernelspec": {
   "display_name": "Julia 0.7.0",
   "language": "julia",
   "name": "julia-0.7"
  },
  "language_info": {
   "file_extension": ".jl",
   "mimetype": "application/julia",
   "name": "julia",
   "version": "0.7.0"
  }
 },
 "nbformat": 4,
 "nbformat_minor": 2
}
