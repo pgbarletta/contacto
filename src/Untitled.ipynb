{
 "cells": [
  {
   "cell_type": "code",
   "execution_count": 1,
   "metadata": {},
   "outputs": [
    {
     "name": "stderr",
     "output_type": "stream",
     "text": [
      "┌ Info: Recompiling stale cache file /home/german/.julia/compiled/v0.7/contacto.ji for contacto [top-level]\n",
      "└ @ Base loading.jl:1185\n",
      "┌ Warning: `finalizer(o, f::Function)` is deprecated, use `finalizer(f, o)` instead.\n",
      "│   caller = Type at Chemfiles.jl:35 [inlined]\n",
      "└ @ Core /home/german/.julia/packages/Chemfiles/MzvVI/src/Chemfiles.jl:35\n",
      "┌ Warning: `assert` is deprecated, use `@assert` instead.\n",
      "│   caller = read(::Trajectory) at Trajectory.jl:36\n",
      "└ @ Chemfiles /home/german/.julia/packages/Chemfiles/MzvVI/src/Trajectory.jl:36\n",
      "┌ Warning: `finalizer(o, f::Function)` is deprecated, use `finalizer(f, o)` instead.\n",
      "│   caller = Type at Chemfiles.jl:108 [inlined]\n",
      "└ @ Core /home/german/.julia/packages/Chemfiles/MzvVI/src/Chemfiles.jl:108\n",
      "┌ Warning: `assert` is deprecated, use `@assert` instead.\n",
      "│   caller = ip:0x0\n",
      "└ @ Core :-1\n",
      "┌ Warning: `finalizer(o, f::Function)` is deprecated, use `finalizer(f, o)` instead.\n",
      "│   caller = Type at Chemfiles.jl:51 [inlined]\n",
      "└ @ Core /home/german/.julia/packages/Chemfiles/MzvVI/src/Chemfiles.jl:51\n",
      "┌ Warning: `unsafe_wrap(T, pointer, dims, own)` is deprecated, use `unsafe_wrap(T, pointer, dims, own=own)` instead.\n",
      "│   caller = positions(::Frame) at Frame.jl:56\n",
      "└ @ Chemfiles /home/german/.julia/packages/Chemfiles/MzvVI/src/Frame.jl:56\n"
     ]
    },
    {
     "data": {
      "text/plain": [
       "3×1989 Array{Float64,2}:\n",
       "   1.409   -0.242   -0.265   -1.646  …   11.327   10.595   -7.915   -7.485\n",
       "  30.574   31.101   31.706   31.971      34.457   34.991   21.165   22.235\n",
       " -22.188  -21.098  -19.899  -19.437     -33.102  -35.104  -25.896  -26.269"
      ]
     },
     "execution_count": 1,
     "metadata": {},
     "output_type": "execute_result"
    }
   ],
   "source": [
    "using Revise\n",
    "using Chemfiles\n",
    "using contacto\n",
    "using StaticArrays\n",
    "\n",
    "in_trj = Trajectory(\"/home/german/labo/18/contacto/aux/1mtn.pdb\")\n",
    "in_frm = read(in_trj)\n",
    "in_top = Topology(in_frm)\n",
    "coords = positions(in_frm)"
   ]
  },
  {
   "cell_type": "code",
   "execution_count": 2,
   "metadata": {},
   "outputs": [
    {
     "data": {
      "text/plain": [
       "contacto.Voxel([-10.285, 26.1475, -25.168], [-10.285 -10.285 … 43.835 43.835; 26.1475 26.1475 … 80.2675 80.2675; -25.168 28.952 … -25.168 28.952], 54.1200008392334, 0, contacto.Voxel(#undef, #undef, 6.94339391659944e-310, 0, #undef, #undef), contacto.Voxel[Voxel(#undef, #undef, 6.94339e-310, 0, #undef, #undef), Voxel(#undef, #undef, 6.94339e-310, 0, #undef, #undef), Voxel(#undef, #undef, 6.94339e-310, 0, #undef, #undef), Voxel(#undef, #undef, 6.94339e-310, 0, #undef, #undef), Voxel(#undef, #undef, 6.94339e-310, 0, #undef, #undef), Voxel(#undef, #undef, 6.94339e-310, 0, #undef, #undef), Voxel(#undef, #undef, 6.94339e-310, 0, #undef, #undef), Voxel(#undef, #undef, 6.94339e-310, 0, #undef, #undef)])"
      ]
     },
     "execution_count": 2,
     "metadata": {},
     "output_type": "execute_result"
    }
   ],
   "source": [
    "t_xyz = transpose(coords)\n",
    "x_min = minimum(t_xyz[:, 1])\n",
    "x_max = maximum(t_xyz[:, 1])\n",
    "y_min = minimum(t_xyz[:, 2])\n",
    "y_max = maximum(t_xyz[:, 2])\n",
    "z_min = minimum(t_xyz[:, 3])\n",
    "z_max = maximum(t_xyz[:, 3])\n",
    "\n",
    "ancho = x_max - x_min\n",
    "largo = y_max - y_min\n",
    "espesor = z_max - z_min\n",
    "ctro = [ x_min + ancho/2, y_min + largo/2,  z_min + espesor/2 ]\n",
    "dim = maximum([ancho ; largo ; espesor])\n",
    "contacto.Voxel(ctro, dim, 0)\n"
   ]
  },
  {
   "cell_type": "code",
   "execution_count": 3,
   "metadata": {},
   "outputs": [
    {
     "data": {
      "text/plain": [
       "contacto.Voxel([-10.285, 26.1475, -25.168], [-10.285 -10.285 … 43.835 43.835; 26.1475 26.1475 … 80.2675 80.2675; -25.168 28.952 … -25.168 28.952], 54.1200008392334, 0, contacto.Voxel(#undef, #undef, 6.94339391655517e-310, 0, #undef, #undef), contacto.Voxel[Voxel(#undef, #undef, 6.94339e-310, 0, #undef, #undef), Voxel(#undef, #undef, 6.94339e-310, 0, #undef, #undef), Voxel(#undef, #undef, 6.94339e-310, 0, #undef, #undef), Voxel(#undef, #undef, 6.94339e-310, 0, #undef, #undef), Voxel(#undef, #undef, 6.94339e-310, 0, #undef, #undef), Voxel(#undef, #undef, 6.94339e-310, 0, #undef, #undef), Voxel(#undef, #undef, 6.94339e-310, 0, #undef, #undef), Voxel(#undef, #undef, 6.94339e-310, 0, #undef, #undef)])"
      ]
     },
     "execution_count": 3,
     "metadata": {},
     "output_type": "execute_result"
    }
   ],
   "source": [
    "sa = contacto.Voxel(ctro, dim, 0)"
   ]
  },
  {
   "cell_type": "code",
   "execution_count": 5,
   "metadata": {},
   "outputs": [
    {
     "data": {
      "text/plain": [
       "8-element MArray{Tuple{8},contacto.Voxel,1,8}:\n",
       " contacto.Voxel(#undef, #undef, 6.94339391655517e-310, 0, #undef, #undef)\n",
       " contacto.Voxel(#undef, #undef, 6.94339391655517e-310, 0, #undef, #undef)\n",
       " contacto.Voxel(#undef, #undef, 6.94339391655517e-310, 0, #undef, #undef)\n",
       " contacto.Voxel(#undef, #undef, 6.94339391655517e-310, 0, #undef, #undef)\n",
       " contacto.Voxel(#undef, #undef, 6.94339391655517e-310, 0, #undef, #undef)\n",
       " contacto.Voxel(#undef, #undef, 6.94339391655517e-310, 0, #undef, #undef)\n",
       " contacto.Voxel(#undef, #undef, 6.94339391655517e-310, 0, #undef, #undef)\n",
       " contacto.Voxel(#undef, #undef, 6.94339391655517e-310, 0, #undef, #undef)"
      ]
     },
     "execution_count": 5,
     "metadata": {},
     "output_type": "execute_result"
    }
   ],
   "source": [
    "sa.childs_xyz"
   ]
  },
  {
   "cell_type": "code",
   "execution_count": 3,
   "metadata": {},
   "outputs": [
    {
     "data": {
      "text/plain": [
       "contacto.Voxel([-10.285, 26.1475, -25.168], [-10.285, 26.1475, -25.168], [-10.285, 26.1475, 28.952], [-10.285, 80.2675, -25.168], [-10.285, 80.2675, 28.952], [43.835, 26.1475, -25.168], [43.835, 26.1475, 28.952], [43.835, 80.2675, -25.168], [43.835, 80.2675, 28.952], 54.1200008392334, 0, contacto.Voxel(#undef, #undef, #undef, #undef, #undef, #undef, #undef, #undef, #undef, 5.0e-324, 140649304300545, #undef, #undef), contacto.Voxel[Voxel(#undef, #undef, #undef, #undef, #undef, #undef, #undef, #undef, #undef, 6.949e-310, 140649304300720, #undef, #undef), Voxel(#undef, #undef, #undef, #undef, #undef, #undef, #undef, #undef, #undef, 6.949e-310, 140649304300720, #undef, #undef), Voxel(#undef, #undef, #undef, #undef, #undef, #undef, #undef, #undef, #undef, 6.949e-310, 140649304300720, #undef, #undef), Voxel(#undef, #undef, #undef, #undef, #undef, #undef, #undef, #undef, #undef, 6.949e-310, 140649304300720, #undef, #undef), Voxel(#undef, #undef, #undef, #undef, #undef, #undef, #undef, #undef, #undef, 6.949e-310, 140649304300720, #undef, #undef), Voxel(#undef, #undef, #undef, #undef, #undef, #undef, #undef, #undef, #undef, 6.949e-310, 140649304300720, #undef, #undef), Voxel(#undef, #undef, #undef, #undef, #undef, #undef, #undef, #undef, #undef, 6.949e-310, 140649304300720, #undef, #undef), Voxel(#undef, #undef, #undef, #undef, #undef, #undef, #undef, #undef, #undef, 6.949e-310, 140649304300720, #undef, #undef)])"
      ]
     },
     "execution_count": 3,
     "metadata": {},
     "output_type": "execute_result"
    }
   ],
   "source": [
    "contacto.Voxel(ctro, dim, 0)"
   ]
  },
  {
   "cell_type": "code",
   "execution_count": 51,
   "metadata": {},
   "outputs": [
    {
     "data": {
      "text/plain": [
       "3-element MArray{Tuple{3},Float64,1,3}:\n",
       " 1.0\n",
       " 2.0\n",
       " 3.0"
      ]
     },
     "execution_count": 51,
     "metadata": {},
     "output_type": "execute_result"
    }
   ],
   "source": [
    "sala[:, 1] = convert(MVector{3, Float64}, [1., 2., 3.])"
   ]
  },
  {
   "cell_type": "code",
   "execution_count": 56,
   "metadata": {},
   "outputs": [
    {
     "data": {
      "text/plain": [
       "3-element Array{Float64,1}:\n",
       " 15.5\n",
       " 25.5\n",
       "  6.0"
      ]
     },
     "execution_count": 56,
     "metadata": {},
     "output_type": "execute_result"
    }
   ],
   "source": [
    "sala[:, 1] = [15.5, 25.5, 6.]"
   ]
  },
  {
   "cell_type": "code",
   "execution_count": 7,
   "metadata": {},
   "outputs": [
    {
     "data": {
      "text/plain": [
       "3-element Array{Float64,1}:\n",
       " 0.0\n",
       " 0.0\n",
       " 0.0"
      ]
     },
     "execution_count": 7,
     "metadata": {},
     "output_type": "execute_result"
    }
   ],
   "source": [
    "dim = 3.\n",
    "c = [0. ; 0. ; 0.]"
   ]
  },
  {
   "cell_type": "code",
   "execution_count": null,
   "metadata": {},
   "outputs": [],
   "source": []
  },
  {
   "cell_type": "code",
   "execution_count": 15,
   "metadata": {},
   "outputs": [
    {
     "ename": "LoadError",
     "evalue": "syntax: expected \"]\" or separator in arguments to \"[ ]\"; got \"(c .+ [dim; dim; dim]))\"",
     "output_type": "error",
     "traceback": [
      "syntax: expected \"]\" or separator in arguments to \"[ ]\"; got \"(c .+ [dim; dim; dim]))\"",
      ""
     ]
    }
   ],
   "source": [
    "lel = MMatrix{3, 8, Float64}([ c c .+ [ 0 ; 0 ; dim ] c .+ [ 0 ; dim ; 0 ] \n",
    "        c .+ [ 0 ; dim ; dim ] c .+ [ dim ; 0 ; 0 ] c .+ [ dim ; 0 ; dim ] \n",
    "        c .+ [ dim ; dim ; 0 ] c .+ [ dim ; dim ; dim ])"
   ]
  },
  {
   "cell_type": "code",
   "execution_count": 27,
   "metadata": {},
   "outputs": [
    {
     "data": {
      "text/plain": [
       "3×8 Array{Float64,2}:\n",
       " 0.0  0.0  0.0  0.0  3.0  3.0  3.0  3.0\n",
       " 0.0  0.0  3.0  3.0  0.0  0.0  3.0  3.0\n",
       " 0.0  3.0  0.0  3.0  0.0  3.0  0.0  3.0"
      ]
     },
     "execution_count": 27,
     "metadata": {},
     "output_type": "execute_result"
    }
   ],
   "source": [
    "vertices = hcat(c, c .+ [ 0 ; 0 ; dim ], c .+ [ 0 ; dim ; 0 ], c .+ [ 0 ; dim ; dim ], c .+ [ dim ; 0 ; 0 ], c .+ [ dim ; 0 ; dim ], c .+ [ dim ; dim ; 0 ], c .+ [ dim ; dim ; dim ])"
   ]
  },
  {
   "cell_type": "code",
   "execution_count": null,
   "metadata": {},
   "outputs": [],
   "source": []
  },
  {
   "cell_type": "code",
   "execution_count": 45,
   "metadata": {},
   "outputs": [
    {
     "data": {
      "text/plain": [
       "3-element MArray{Tuple{3},Float64,1,3}:\n",
       " 6.94900099903383e-310\n",
       " 2.0e-323             \n",
       " 3.75e-322            "
      ]
     },
     "execution_count": 45,
     "metadata": {},
     "output_type": "execute_result"
    }
   ],
   "source": [
    "ras = MVector{3, Float64}(undef)"
   ]
  },
  {
   "cell_type": "code",
   "execution_count": 46,
   "metadata": {},
   "outputs": [
    {
     "data": {
      "text/plain": [
       "3-element MArray{Tuple{3},Float64,1,3}:\n",
       " 6.94900099903383e-310\n",
       " 2.0e-323             \n",
       " 3.75e-322            "
      ]
     },
     "execution_count": 46,
     "metadata": {},
     "output_type": "execute_result"
    }
   ],
   "source": [
    "ras"
   ]
  },
  {
   "cell_type": "code",
   "execution_count": 42,
   "metadata": {},
   "outputs": [
    {
     "data": {
      "text/plain": [
       "2.0"
      ]
     },
     "execution_count": 42,
     "metadata": {},
     "output_type": "execute_result"
    }
   ],
   "source": [
    "ras[1] = 2."
   ]
  },
  {
   "cell_type": "code",
   "execution_count": 39,
   "metadata": {},
   "outputs": [
    {
     "data": {
      "text/plain": [
       "3-element MArray{Tuple{3},Float64,1,3}:\n",
       " 2.0\n",
       " 1.0\n",
       " 1.0"
      ]
     },
     "execution_count": 39,
     "metadata": {},
     "output_type": "execute_result"
    }
   ],
   "source": [
    "ras"
   ]
  },
  {
   "cell_type": "code",
   "execution_count": 30,
   "metadata": {},
   "outputs": [
    {
     "ename": "MethodError",
     "evalue": "MethodError: no method matching setindex!(::Type{MArray{Tuple{3},Float64,1,3}}, ::Float64, ::Int64)",
     "output_type": "error",
     "traceback": [
      "MethodError: no method matching setindex!(::Type{MArray{Tuple{3},Float64,1,3}}, ::Float64, ::Int64)",
      "",
      "Stacktrace:",
      " [1] top-level scope at In[30]:1"
     ]
    }
   ],
   "source": [
    "setindex!(ras, 0., 1)"
   ]
  },
  {
   "cell_type": "code",
   "execution_count": 18,
   "metadata": {},
   "outputs": [
    {
     "data": {
      "text/plain": [
       "3-element Array{Float64,1}:\n",
       " 6.94900682964876e-310\n",
       " 6.9490068295776e-310 \n",
       " 6.9489987189351e-310 "
      ]
     },
     "execution_count": 18,
     "metadata": {},
     "output_type": "execute_result"
    }
   ],
   "source": [
    "sar = Array{Float64}(undef, 3)"
   ]
  },
  {
   "cell_type": "code",
   "execution_count": 25,
   "metadata": {},
   "outputs": [
    {
     "ename": "MethodError",
     "evalue": "MethodError: no method matching setindex!(::Type{SArray{Tuple{3},Float64,1,3}}, ::Float64, ::Int64)",
     "output_type": "error",
     "traceback": [
      "MethodError: no method matching setindex!(::Type{SArray{Tuple{3},Float64,1,3}}, ::Float64, ::Int64)",
      "",
      "Stacktrace:",
      " [1] top-level scope at In[25]:1"
     ]
    }
   ],
   "source": [
    "ras[1] = 1."
   ]
  },
  {
   "cell_type": "code",
   "execution_count": 10,
   "metadata": {},
   "outputs": [
    {
     "ename": "MethodError",
     "evalue": "MethodError: no method matching setindex!(::Type{MArray{Tuple{3,8},Float64,2,L} where L}, ::MArray{Tuple{3},Float64,1,3}, ::Colon, ::Int64)",
     "output_type": "error",
     "traceback": [
      "MethodError: no method matching setindex!(::Type{MArray{Tuple{3,8},Float64,2,L} where L}, ::MArray{Tuple{3},Float64,1,3}, ::Colon, ::Int64)",
      "",
      "Stacktrace:",
      " [1] top-level scope at In[10]:1"
     ]
    }
   ],
   "source": [
    "sala[:, 1] = convert(MVector{3, Float64}, [1., 2., 3.])"
   ]
  },
  {
   "cell_type": "code",
   "execution_count": null,
   "metadata": {},
   "outputs": [],
   "source": [
    "mutable struct OctTree\n",
    "    data::Array{Voxel, 1}\n",
    "    \n",
    "    function OctTree(coords::Array{Float64, 2})\n",
    "        if size(xyz)[1] != 3\n",
    "            error(\"Input coordiantes should be 3xN, where N is the number of atoms.\")\n",
    "        end\n",
    "        \n",
    "        t_xyz = transpose(coords)\n",
    "        x_min = minimum(t_xyz[:, 1])\n",
    "        x_max = maximum(t_xyz[:, 1])\n",
    "        y_min = minimum(t_xyz[:, 2])\n",
    "        y_max = maximum(t_xyz[:, 2])\n",
    "        z_min = minimum(t_xyz[:, 3])\n",
    "        z_max = maximum(t_xyz[:, 3])\n",
    "\n",
    "        ancho = x_max - x_min\n",
    "        largo = y_max - y_min\n",
    "        espesor = z_max - z_min\n",
    "        ctro = [ x_min + ancho/2, y_min + largo/2,  z_min + espesor/2 ]\n",
    "        dim = maximum([ancho ; largo ; espesor])\n",
    "        \n",
    "        Voxel()\n",
    "    end\n",
    "end"
   ]
  }
 ],
 "metadata": {
  "kernelspec": {
   "display_name": "Julia 0.7.0",
   "language": "julia",
   "name": "julia-0.7"
  },
  "language_info": {
   "file_extension": ".jl",
   "mimetype": "application/julia",
   "name": "julia",
   "version": "0.7.0"
  }
 },
 "nbformat": 4,
 "nbformat_minor": 2
}
