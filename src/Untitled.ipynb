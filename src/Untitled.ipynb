{
 "cells": [
  {
   "cell_type": "markdown",
   "metadata": {},
   "source": [
    "ctro = round.([ x_min + espacio[1]/2, y_min + espacio[2]/2,  z_min + espacio[3]/2 ], digits = 3)\n",
    "\n",
    "dim = ncells * cutoff\n",
    "\n",
    "half_dim = round(dim / 2, digits = 3)\n",
    "\n",
    "sa = contacto.Voxel(ctro, half_dim, 0)"
   ]
  },
  {
   "cell_type": "code",
   "execution_count": 2,
   "metadata": {},
   "outputs": [],
   "source": [
    "using Revise\n",
    "using contacto\n",
    "using Chemfiles\n",
    "using StaticArrays"
   ]
  },
  {
   "cell_type": "code",
   "execution_count": 3,
   "metadata": {},
   "outputs": [
    {
     "name": "stderr",
     "output_type": "stream",
     "text": [
      "┌ Warning: `finalizer(o, f::Function)` is deprecated, use `finalizer(f, o)` instead.\n",
      "│   caller = Type at Chemfiles.jl:35 [inlined]\n",
      "└ @ Core /home/german/.julia/packages/Chemfiles/MzvVI/src/Chemfiles.jl:35\n",
      "┌ Warning: `assert` is deprecated, use `@assert` instead.\n",
      "│   caller = read(::Trajectory) at Trajectory.jl:36\n",
      "└ @ Chemfiles /home/german/.julia/packages/Chemfiles/MzvVI/src/Trajectory.jl:36\n",
      "┌ Warning: `finalizer(o, f::Function)` is deprecated, use `finalizer(f, o)` instead.\n",
      "│   caller = Type at Chemfiles.jl:108 [inlined]\n",
      "└ @ Core /home/german/.julia/packages/Chemfiles/MzvVI/src/Chemfiles.jl:108\n",
      "┌ Warning: `assert` is deprecated, use `@assert` instead.\n",
      "│   caller = ip:0x0\n",
      "└ @ Core :-1\n",
      "┌ Warning: `finalizer(o, f::Function)` is deprecated, use `finalizer(f, o)` instead.\n",
      "│   caller = Type at Chemfiles.jl:51 [inlined]\n",
      "└ @ Core /home/german/.julia/packages/Chemfiles/MzvVI/src/Chemfiles.jl:51\n",
      "┌ Warning: `unsafe_wrap(T, pointer, dims, own)` is deprecated, use `unsafe_wrap(T, pointer, dims, own=own)` instead.\n",
      "│   caller = positions(::Frame) at Frame.jl:56\n",
      "└ @ Chemfiles /home/german/.julia/packages/Chemfiles/MzvVI/src/Frame.jl:56\n"
     ]
    }
   ],
   "source": [
    "in_trj = Trajectory(\"/home/german/labo/contacto/aux/1mtn.pdb\")\n",
    "in_frm = read(in_trj)\n",
    "in_top = Topology(in_frm)\n",
    "coords = round.(positions(in_frm), digits = 3)\n",
    "natoms = size(coords)[2]\n",
    "\n",
    "#############\n",
    "\n",
    "cutoff = round(5., digits = 3)\n",
    "resolution = .1\n",
    "t_xyz = transpose(coords)\n",
    "\n",
    "srt_x_idx_t_xyz = sortperm(t_xyz[:, 1])\n",
    "srt_x_t_xyz = t_xyz[srt_x_idx_t_xyz, 1]\n",
    "\n",
    "x_min = floor(srt_x_t_xyz[1])\n",
    "x_max = ceil(srt_x_t_xyz[end])\n",
    "y_min = floor(minimum(t_xyz[:, 2]))\n",
    "y_max = ceil(maximum(t_xyz[:, 2]))\n",
    "z_min = floor(minimum(t_xyz[:, 3]))\n",
    "z_max = ceil(maximum(t_xyz[:, 3]))\n",
    "\n",
    "espacio = [ x_max - x_min ; y_max - y_min ; z_max - z_min ]\n",
    "ncells = convert(Int64, ceil(maximum(espacio) / cutoff))\n",
    "box_dim = [ x_min, x_max, y_min, y_max, z_min, z_max ]\n",
    "box_vtces = hcat(\n",
    "    [ x_min ; x_max ; x_min ; x_max ; x_min ; x_max ; x_min ; x_max ], \n",
    "    [ y_min ; y_min ; y_max ; y_max ; y_min ; y_min ; y_max ; y_max ],\n",
    "    [ z_min ; z_min ; z_min ; z_min ; z_max ; z_max ; z_max ; z_max ])\n",
    "#############\n",
    "\n",
    "init_vox = vcat([ x_min y_min z_min ], [ x_min+cutoff y_min z_min ],\n",
    "    [ x_min y_min+cutoff z_min ], [ x_min+cutoff y_min+cutoff z_min ],\n",
    "    [ x_min y_min z_min+cutoff ], [ x_min+cutoff y_min z_min+cutoff ],\n",
    "    [ x_min y_min+cutoff z_min+cutoff ], [ x_min+cutoff y_min+cutoff z_min+cutoff ])\n",
    "\n",
    "celdas = Array{Array{Float64, 2}, 1}(undef, ncells^3);\n",
    "let cell_vtces = init_vox, m = 1, vect_z = zeros(8)\n",
    "    for i = 1:ncells\n",
    "        let vect_y = zeros(8)\n",
    "            for j = 1:ncells\n",
    "                let vect_x = zeros(8)\n",
    "                    for k = 1:ncells\n",
    "                        global celdas[m] = cell_vtces + hcat(vect_x, vect_y, vect_z)\n",
    "                        m += 1\n",
    "                        vect_x .+= cutoff\n",
    "                    end\n",
    "                end\n",
    "                vect_y .+= cutoff\n",
    "            end\n",
    "        end\n",
    "        vect_z .+= cutoff\n",
    "    end\n",
    "end\n",
    "\n",
    "#############\n",
    "nlevels = convert(Int64, ceil(log2(ncells)))\n",
    "nnodes = sum([ 2^x for x in 1:(nlevels) ]) ; sobra = (2^nlevels - ncells) * 2 ; nnodes -= sobra\n",
    "\n",
    "nodes_anchos = Array{Array{Int64, 1}, 1}(undef, nlevels+1)\n",
    "nodes_anchos[1] = [ncells]\n",
    "nodes_ranges = Array{Array{Tuple{Int64,Int64}, 1}, 1}(undef, nlevels+1)\n",
    "nodes_ranges[1] = [(0, ncells)]\n",
    "nodes_bounds = Array{Array{Int64, 1}, 1}(undef, nlevels+1)\n",
    "nodes_bounds[1] = [ncells]\n",
    "\n",
    "let i = 1, j = 1; for i = 1:nlevels\n",
    "    k = i + 1\n",
    "    nodes_anchos[k] = []\n",
    "    nodes_ranges[k] = []\n",
    "    nodes_bounds[k] = []\n",
    "    prev = 0\n",
    "    for j = 1:2^(i-1)\n",
    "        \n",
    "        lh_node_ancho = convert(Int64, ceil(nodes_anchos[i][j] / 2))\n",
    "        rh_node_ancho = nodes_anchos[i][j] - lh_node_ancho\n",
    "        push!(nodes_anchos[k], lh_node_ancho)\n",
    "        push!(nodes_anchos[k], rh_node_ancho)\n",
    "        \n",
    "        rango = nodes_ranges[i][j][2] - nodes_ranges[i][j][1]\n",
    "        lh_node_rango = convert(Int64, ceil(rango / 2)) + prev\n",
    "        rh_node_rango = rango + prev\n",
    "        push!(nodes_ranges[k], (prev, lh_node_rango))\n",
    "        push!(nodes_ranges[k], (lh_node_rango, rh_node_rango))\n",
    "            \n",
    "        push!(nodes_bounds[k], lh_node_rango)\n",
    "        prev = rh_node_rango\n",
    "    end\n",
    "end\n",
    "end"
   ]
  },
  {
   "cell_type": "code",
   "execution_count": 4,
   "metadata": {},
   "outputs": [
    {
     "data": {
      "text/plain": [
       "5-element Array{Array{Int64,1},1}:\n",
       " [11]                                            \n",
       " [6, 5]                                          \n",
       " [3, 3, 3, 2]                                    \n",
       " [2, 1, 2, 1, 2, 1, 1, 1]                        \n",
       " [1, 1, 1, 0, 1, 1, 1, 0, 1, 1, 1, 0, 1, 0, 1, 0]"
      ]
     },
     "execution_count": 4,
     "metadata": {},
     "output_type": "execute_result"
    }
   ],
   "source": [
    "nodes_anchos"
   ]
  },
  {
   "cell_type": "code",
   "execution_count": 5,
   "metadata": {},
   "outputs": [
    {
     "data": {
      "text/plain": [
       "5-element Array{Array{Tuple{Int64,Int64},1},1}:\n",
       " [(0, 11)]                                                                                                                              \n",
       " [(0, 6), (6, 11)]                                                                                                                      \n",
       " [(0, 3), (3, 6), (6, 9), (9, 11)]                                                                                                      \n",
       " [(0, 2), (2, 3), (3, 5), (5, 6), (6, 8), (8, 9), (9, 10), (10, 11)]                                                                    \n",
       " [(0, 1), (1, 2), (2, 3), (3, 3), (3, 4), (4, 5), (5, 6), (6, 6), (6, 7), (7, 8), (8, 9), (9, 9), (9, 10), (10, 10), (10, 11), (11, 11)]"
      ]
     },
     "execution_count": 5,
     "metadata": {},
     "output_type": "execute_result"
    }
   ],
   "source": [
    "nodes_ranges"
   ]
  },
  {
   "cell_type": "code",
   "execution_count": 6,
   "metadata": {},
   "outputs": [
    {
     "data": {
      "text/plain": [
       "5-element Array{Array{Int64,1},1}:\n",
       " [11]                      \n",
       " [6]                       \n",
       " [3, 9]                    \n",
       " [2, 5, 8, 10]             \n",
       " [1, 3, 4, 6, 7, 9, 10, 11]"
      ]
     },
     "execution_count": 6,
     "metadata": {},
     "output_type": "execute_result"
    }
   ],
   "source": [
    "nodes_bounds"
   ]
  },
  {
   "cell_type": "code",
   "execution_count": 7,
   "metadata": {},
   "outputs": [],
   "source": [
    "nodes_indices_x = Array{Array{UnitRange{Int64}, 1}, 1}(undef, nlevels+1)\n",
    "nodes_indices_x[1] = [1:natoms]\n",
    "for i = 1:nlevels\n",
    "    k = i + 1\n",
    "    nodes_indices_x[k] = []\n",
    "    for j = 1:2^(i-1)\n",
    "        englobing_range = nodes_indices_x[i][j]\n",
    "        ancho = nodes_ranges[k][j*2][2] - nodes_ranges[k][j*2-1][1]\n",
    "        if ancho > 1\n",
    "            if length(englobing_range) > 1\n",
    "                x_idx = searchsortedlast(srt_x_t_xyz[englobing_range],\n",
    "                    (x_min + cutoff * nodes_bounds[k][j])) \n",
    "        \n",
    "                if x_idx == 0\n",
    "                    # Todos los átomos en la celda de la derecha\n",
    "                    push!(nodes_indices_x[k], 0:0)\n",
    "                    push!(nodes_indices_x[k], englobing_range)\n",
    "                elseif x_idx == length(englobing_range)\n",
    "                    # Todos los átomos en la celda de la izquierda\n",
    "                    push!(nodes_indices_x[k], englobing_range)\n",
    "                    push!(nodes_indices_x[k], 0:0)\n",
    "                else\n",
    "                    # Divido en 2 celdas más \n",
    "                    x_boundary = x_idx + englobing_range.start - 1\n",
    "                    push!(nodes_indices_x[k],\n",
    "                        nodes_indices_x[i][j].start:x_boundary)\n",
    "                    push!(nodes_indices_x[k],\n",
    "                        x_boundary+1:nodes_indices_x[i][j].stop)\n",
    "                end\n",
    "            elseif englobing_range.start == 0 & englobing_range.stop == 0\n",
    "                # 0 átomos en la celda\n",
    "                push!(nodes_indices_x[k], 0:0)\n",
    "                push!(nodes_indices_x[k], 0:0)\n",
    "            else\n",
    "                error(\"re loco.\")\n",
    "            end\n",
    "        else\n",
    "            push!(nodes_indices_x[k], englobing_range)\n",
    "        end\n",
    "    end\n",
    "end"
   ]
  },
  {
   "cell_type": "code",
   "execution_count": 8,
   "metadata": {},
   "outputs": [
    {
     "data": {
      "text/plain": [
       "12"
      ]
     },
     "execution_count": 8,
     "metadata": {},
     "output_type": "execute_result"
    }
   ],
   "source": [
    "pl = 1\n",
    "\n",
    "#if !(nodes_indices_x[end][pl].start == 0 & nodes_indices_x[end][pl].start == 0)\n",
    "\n",
    "t_xyz_plano = t_xyz[srt_x_idx_t_xyz[nodes_indices_x[end][pl]], :]\n",
    "srt_y_idx_t_xyz_plano = sortperm(t_xyz_plano[:, 2])\n",
    "srt_y_t_xyz_plano = t_xyz_plano[srt_y_idx_t_xyz_plano, 2]\n",
    "\n",
    "nlevels\n",
    "ncells\n",
    "nnodes\n",
    "natoms_plano = length(nodes_indices_x[end][pl])"
   ]
  },
  {
   "cell_type": "code",
   "execution_count": 9,
   "metadata": {},
   "outputs": [],
   "source": [
    "nodes_indices_y_plano = Array{Array{UnitRange{Int64}, 1}, 1}(undef, nlevels+1)\n",
    "nodes_indices_y_plano[1] = [1:natoms_plano]\n",
    "\n",
    "for i = 1:nlevels\n",
    "    k = i + 1\n",
    "    nodes_indices_y_plano[k] = []\n",
    "    for j = 1:2^(i-1)\n",
    "        englobing_range = nodes_indices_y_plano[i][j]\n",
    "        ancho = nodes_ranges[k][j*2][2] - nodes_ranges[k][j*2-1][1]\n",
    "        if ancho > 1 \n",
    "            if length(englobing_range) > 1\n",
    "                y_idx = searchsortedlast(\n",
    "                    srt_y_t_xyz_plano[englobing_range],\n",
    "                    (y_min + cutoff * nodes_bounds[k][j])) \n",
    "                \n",
    "                if y_idx == 0\n",
    "                    # Todos los átomos en la celda de la derecha\n",
    "                    push!(nodes_indices_y_plano[k], 0:0)\n",
    "                    push!(nodes_indices_y_plano[k], englobing_range)\n",
    "                elseif y_idx == length(englobing_range)\n",
    "                    # Todos los átomos en la celda de la izquierda\n",
    "                    push!(nodes_indices_y_plano[k], englobing_range)\n",
    "                    push!(nodes_indices_y_plano[k], 0:0)\n",
    "                else\n",
    "                    # Divido en 2 celdas más \n",
    "                    y_boundary = y_idx + englobing_range.start - 1\n",
    "                    push!(nodes_indices_y_plano[k],\n",
    "                        nodes_indices_y_plano[i][j].start:y_boundary - 1)\n",
    "                    push!(nodes_indices_y_plano[k],\n",
    "                        y_boundary:nodes_indices_y_plano[i][j].stop)\n",
    "                end\n",
    "            elseif englobing_range.start == 0 & englobing_range.stop == 0\n",
    "                # 0 átomos en la celda\n",
    "                push!(nodes_indices_y_plano[k], 0:0)\n",
    "                push!(nodes_indices_y_plano[k], 0:0)\n",
    "            else\n",
    "                error(\"re loco.\")\n",
    "            end\n",
    "        else\n",
    "            push!(nodes_indices_y_plano[k], englobing_range)\n",
    "        end\n",
    "    end\n",
    "end"
   ]
  },
  {
   "cell_type": "code",
   "execution_count": 59,
   "metadata": {},
   "outputs": [
    {
     "ename": "BoundsError",
     "evalue": "BoundsError: attempt to access 1989-element Array{Int64,1} at index [0:0]",
     "output_type": "error",
     "traceback": [
      "BoundsError: attempt to access 1989-element Array{Int64,1} at index [0:0]",
      "",
      "Stacktrace:",
      " [1] throw_boundserror(::Array{Int64,1}, ::Tuple{UnitRange{Int64}}) at ./abstractarray.jl:492",
      " [2] checkbounds at ./abstractarray.jl:457 [inlined]",
      " [3] getindex(::Array{Int64,1}, ::UnitRange{Int64}) at ./array.jl:737",
      " [4] top-level scope at In[59]:5"
     ]
    }
   ],
   "source": [
    "eje = 1\n",
    "\n",
    "#if !(nodes_indices_x[end][eje].start == 0 & nodes_indices_x[end][eje].start == 0)\n",
    "\n",
    "t_xyz_eje = t_xyz[srt_x_idx_t_xyz[nodes_indices_y_plano[end][eje]], :]\n",
    "srt_z_idx_t_xyz_eje = sortperm(t_xyz_eje[:, ]) \n",
    "srt_z_t_xyz_eje = t_xyz_eje[srt_z_idx_t_xyz_eje, 3]\n",
    "\n",
    "nlevels\n",
    "ncells\n",
    "nnodes\n",
    "natoms_eje = length(nodes_indices_y_plano[end][eje])"
   ]
  },
  {
   "cell_type": "code",
   "execution_count": 10,
   "metadata": {},
   "outputs": [
    {
     "data": {
      "text/plain": [
       "11-element Array{UnitRange{Int64},1}:\n",
       " 1:12     \n",
       " 13:50    \n",
       " 51:118   \n",
       " 119:247  \n",
       " 248:437  \n",
       " 438:699  \n",
       " 700:1046 \n",
       " 1047:1411\n",
       " 1412:1691\n",
       " 1692:1908\n",
       " 1909:1989"
      ]
     },
     "execution_count": 10,
     "metadata": {},
     "output_type": "execute_result"
    }
   ],
   "source": [
    "nodes_indices_x[end]"
   ]
  },
  {
   "cell_type": "code",
   "execution_count": 11,
   "metadata": {},
   "outputs": [
    {
     "data": {
      "text/plain": [
       "11-element Array{UnitRange{Int64},1}:\n",
       " 0:0 \n",
       " 0:0 \n",
       " 1:4 \n",
       " 5:12\n",
       " 0:0 \n",
       " 0:0 \n",
       " 0:0 \n",
       " 0:0 \n",
       " 0:0 \n",
       " 0:0 \n",
       " 0:0 "
      ]
     },
     "execution_count": 11,
     "metadata": {},
     "output_type": "execute_result"
    }
   ],
   "source": [
    "nodes_indices_y_plano[end]"
   ]
  },
  {
   "cell_type": "code",
   "execution_count": null,
   "metadata": {},
   "outputs": [],
   "source": []
  },
  {
   "cell_type": "code",
   "execution_count": null,
   "metadata": {},
   "outputs": [],
   "source": []
  },
  {
   "cell_type": "markdown",
   "metadata": {},
   "source": [
    "# Este será el código posta"
   ]
  },
  {
   "cell_type": "code",
   "execution_count": 3,
   "metadata": {},
   "outputs": [
    {
     "name": "stderr",
     "output_type": "stream",
     "text": [
      "┌ Warning: `finalizer(o, f::Function)` is deprecated, use `finalizer(f, o)` instead.\n",
      "│   caller = Type at Chemfiles.jl:35 [inlined]\n",
      "└ @ Core /home/german/.julia/packages/Chemfiles/MzvVI/src/Chemfiles.jl:35\n",
      "┌ Warning: `assert` is deprecated, use `@assert` instead.\n",
      "│   caller = read(::Trajectory) at Trajectory.jl:36\n",
      "└ @ Chemfiles /home/german/.julia/packages/Chemfiles/MzvVI/src/Trajectory.jl:36\n",
      "┌ Warning: `finalizer(o, f::Function)` is deprecated, use `finalizer(f, o)` instead.\n",
      "│   caller = Type at Chemfiles.jl:108 [inlined]\n",
      "└ @ Core /home/german/.julia/packages/Chemfiles/MzvVI/src/Chemfiles.jl:108\n",
      "┌ Warning: `assert` is deprecated, use `@assert` instead.\n",
      "│   caller = ip:0x0\n",
      "└ @ Core :-1\n",
      "┌ Warning: `finalizer(o, f::Function)` is deprecated, use `finalizer(f, o)` instead.\n",
      "│   caller = Type at Chemfiles.jl:51 [inlined]\n",
      "└ @ Core /home/german/.julia/packages/Chemfiles/MzvVI/src/Chemfiles.jl:51\n",
      "┌ Warning: `unsafe_wrap(T, pointer, dims, own)` is deprecated, use `unsafe_wrap(T, pointer, dims, own=own)` instead.\n",
      "│   caller = positions(::Frame) at Frame.jl:56\n",
      "└ @ Chemfiles /home/german/.julia/packages/Chemfiles/MzvVI/src/Frame.jl:56\n"
     ]
    }
   ],
   "source": [
    "in_trj = Trajectory(\"/home/german/labo/contacto/aux/1mtn.pdb\")\n",
    "in_frm = read(in_trj)\n",
    "in_top = Topology(in_frm)\n",
    "coords = positions(in_frm) \n",
    "cutoff = round(5., digits = 3)\n",
    "resolution = .1\n",
    "\n",
    "###################\n",
    "\n",
    "xyz = round.(transpose(coords), digits = 3)\n",
    "natoms = size(xyz)[1]\n",
    "\n",
    "x_min = floor(minimum(xyz[:, 1]))\n",
    "x_max = ceil(maximum(xyz[:, 1]))\n",
    "y_min = floor(minimum(xyz[:, 2]))\n",
    "y_max = ceil(maximum(xyz[:, 2]))\n",
    "z_min = floor(minimum(xyz[:, 3]))\n",
    "z_max = ceil(maximum(xyz[:, 3]))\n",
    "\n",
    "espacio = [ x_max - x_min ; y_max - y_min ; z_max - z_min ]\n",
    "ncells = convert(Int64, ceil(maximum(espacio) / cutoff))\n",
    "box_dim = [ x_min, x_max, y_min, y_max, z_min, z_max ]\n",
    "xyz_min = [ x_min, y_min, z_min ]\n",
    "\n",
    "box_vtces = hcat(\n",
    "    [ x_min ; x_max ; x_min ; x_max ; x_min ; x_max ; x_min ; x_max ], \n",
    "    [ y_min ; y_min ; y_max ; y_max ; y_min ; y_min ; y_max ; y_max ],\n",
    "    [ z_min ; z_min ; z_min ; z_min ; z_max ; z_max ; z_max ; z_max ])\n",
    "\n",
    "init_vox = vcat([ x_min y_min z_min ], [ x_min+cutoff y_min z_min ],\n",
    "    [ x_min y_min+cutoff z_min ], [ x_min+cutoff y_min+cutoff z_min ],\n",
    "    [ x_min y_min z_min+cutoff ], [ x_min+cutoff y_min z_min+cutoff ],\n",
    "    [ x_min y_min+cutoff z_min+cutoff ], [ x_min+cutoff y_min+cutoff z_min+cutoff ])\n",
    "\n",
    "celdas = Array{Array{Float64, 2}, 1}(undef, ncells^3);\n",
    "let cell_vtces = init_vox, m = 1, vect_z = zeros(8)\n",
    "    for i = 1:ncells\n",
    "        let vect_y = zeros(8)\n",
    "            for j = 1:ncells\n",
    "                let vect_x = zeros(8)\n",
    "                    for k = 1:ncells\n",
    "                        global celdas[m] = cell_vtces + hcat(vect_x, vect_y, vect_z)\n",
    "                        m += 1\n",
    "                        vect_x .+= cutoff\n",
    "                    end\n",
    "                end\n",
    "                vect_y .+= cutoff\n",
    "            end\n",
    "        end\n",
    "        vect_z .+= cutoff\n",
    "    end\n",
    "end\n",
    "\n",
    "nlevels = convert(Int64, ceil(log2(ncells)))\n",
    "nodes_ranges = Array{Array{Tuple{Int64,Int64}, 1}, 1}(undef, nlevels+1)\n",
    "nodes_ranges[1] = [(0, ncells)]\n",
    "nodes_bounds = Array{Array{Int64, 1}, 1}(undef, nlevels+1)\n",
    "nodes_bounds[1] = [ncells]\n",
    "\n",
    "let i = 1, j = 1; for i = 1:nlevels\n",
    "    k = i + 1\n",
    "    nodes_ranges[k] = []\n",
    "    nodes_bounds[k] = []\n",
    "    prev = 0\n",
    "    for j = 1:2^(i-1)\n",
    "        rango = nodes_ranges[i][j][2] - nodes_ranges[i][j][1]\n",
    "        lh_node_rango = convert(Int64, ceil(rango / 2)) + prev\n",
    "        rh_node_rango = rango + prev\n",
    "        push!(nodes_ranges[k], (prev, lh_node_rango))\n",
    "        push!(nodes_ranges[k], (lh_node_rango, rh_node_rango))\n",
    "            \n",
    "        push!(nodes_bounds[k], lh_node_rango)\n",
    "        prev = rh_node_rango\n",
    "    end\n",
    "end\n",
    "end"
   ]
  },
  {
   "cell_type": "markdown",
   "metadata": {},
   "source": [
    "nodes_indices = Array{Array{Array{UnitRange{Int64}, 1}, 1}, 1}(undef, 3)\n",
    "arbol = Array{Array{Array{UnitRange{Int64}, 1}, 1}, 1}(undef, 4)\n",
    "srt_idx_tree = Array{Array{Array{Int64, 1}, 1}, 1}(undef, 4)\n",
    "\n",
    "arbol[1] = [[1:natoms]]\n",
    "arbol[2] = Array{Array{UnitRange{Int64}, 1}, 1}(undef, 1)\n",
    "arbol[3] = Array{Array{UnitRange{Int64}, 1}, 1}(undef, ncells)\n",
    "arbol[4] = Array{Array{UnitRange{Int64}, 1}, 1}(undef, ncells^2)\n",
    "\n",
    "srt_idx_tree[2] = Array{Array{Int64, 1}, 1}(undef, 1)\n",
    "srt_idx_tree[3] = Array{Array{Int64, 1}, 1}(undef, ncells)\n",
    "srt_idx_tree[4] = Array{Array{Int64, 1}, 1}(undef, ncells^2)\n",
    "\n",
    "srt_idx_tree[1] = [collect(1:natoms)]\n",
    "\n",
    "#####################\n",
    "\n",
    "d = 2\n",
    "pl = 1\n",
    "ej = 1\n",
    "\n",
    "idx_up = arbol[d][pl][ej]\n",
    "tre_up = srt_idx_tree[d][pl]\n",
    "tre_at = Array{Int64, 1}"
   ]
  },
  {
   "cell_type": "code",
   "execution_count": 32,
   "metadata": {},
   "outputs": [
    {
     "data": {
      "text/plain": [
       "spread (generic function with 2 methods)"
      ]
     },
     "execution_count": 32,
     "metadata": {},
     "output_type": "execute_result"
    }
   ],
   "source": [
    "function spread(srt_xyz, nodes_ranges, nodes_bounds, xyz_min, natoms,\n",
    "        cutoff, nlevels, d, dbg::Bool = false)\n",
    "    \n",
    "    nodes_indices_xyz = Array{Array{UnitRange{Int64}, 1}, 1}(undef, nlevels+1)\n",
    "    nodes_indices_xyz[1] = [1:natoms]\n",
    "\n",
    "    for i = 1:nlevels\n",
    "        k = i + 1\n",
    "        nodes_indices_xyz[k] = []\n",
    "        for j = 1:2^(i-1)\n",
    "            englobing_range = nodes_indices_xyz[i][j]\n",
    "            ancho = nodes_ranges[k][j*2][2] - nodes_ranges[k][j*2-1][1]\n",
    "            if ancho > 1\n",
    "                if englobing_range.start == 0 & englobing_range.stop == 0\n",
    "                    # 0 átomos en la celda\n",
    "                    push!(nodes_indices_xyz[k], 0:0)\n",
    "                    push!(nodes_indices_xyz[k], 0:0)\n",
    "                elseif length(englobing_range) >= 1\n",
    "                    xyz_idx = searchsortedlast(srt_xyz[englobing_range],\n",
    "                        (xyz_min[d] + cutoff * nodes_bounds[k][j]))\n",
    "                    \n",
    "                    if xyz_idx == 0\n",
    "                        # Todos los átomos en la celda de la derecha\n",
    "                        push!(nodes_indices_xyz[k], 0:0)\n",
    "                        push!(nodes_indices_xyz[k], englobing_range)\n",
    "                    elseif xyz_idx == length(englobing_range)\n",
    "                        # Todos los átomos en la celda de la izquierda\n",
    "                        push!(nodes_indices_xyz[k], englobing_range)\n",
    "                        push!(nodes_indices_xyz[k], 0:0)\n",
    "                    else\n",
    "                        # Divido en 2 celdas más\n",
    "                        xyz_boundary = xyz_idx + englobing_range.start - 1\n",
    "                        push!(nodes_indices_xyz[k],\n",
    "                            nodes_indices_xyz[i][j].start:xyz_boundary)\n",
    "                        push!(nodes_indices_xyz[k],\n",
    "                            xyz_boundary+1:nodes_indices_xyz[i][j].stop)\n",
    "                    end\n",
    "                else\n",
    "                    println(srt_xyz, xyz_min, \"  \", natoms, \"  \", englobing_range)\n",
    "                    error(\"re loco.\")\n",
    "                end\n",
    "            else\n",
    "                push!(nodes_indices_xyz[k], englobing_range)\n",
    "            end\n",
    "        end\n",
    "    end\n",
    "\n",
    "    return nodes_indices_xyz[end]\n",
    "end"
   ]
  },
  {
   "cell_type": "code",
   "execution_count": 33,
   "metadata": {},
   "outputs": [
    {
     "name": "stdout",
     "output_type": "stream",
     "text": [
      "1\n",
      "2\n",
      "3\n",
      "4\n",
      "5\n",
      "6\n",
      "7\n",
      "8\n",
      "9\n",
      "10\n",
      "11\n"
     ]
    }
   ],
   "source": [
    "arbol = contacto.tree(11, natoms, xyz);\n",
    "nodo = arbol.root;\n",
    "\n",
    "x_tree = spread(nodo.xyz[nodo.srt_idx, nodo.node_level+1], \n",
    "    nodes_ranges, nodes_bounds, xyz_min, nodo.natoms, cutoff, nlevels, nodo.node_level+1)\n",
    "\n",
    "let i = 1\n",
    "    for i = 1:ncells\n",
    "        nodo[i].idx_range = x_tree[i]\n",
    "        \n",
    "        if nodo[i].idx_range == 0:0\n",
    "            nodo[i].natoms = 0\n",
    "            nodo[i].srt_idx = [0]\n",
    "            nodo[i].xyz = [0. 0.]\n",
    "            for j = 1:nodo.n\n",
    "                for k = 1:nodo.n\n",
    "                    nodo[i, j, k].idx_range == 0:0\n",
    "                    nodo[i, j, k].natoms = 0\n",
    "                end\n",
    "            end\n",
    "        else\n",
    "            let j = 1; for j = 1:nodo.n\n",
    "                nodo[i].natoms = length(nodo[i].idx_range)\n",
    "                nodo[i].srt_idx = nodo.srt_idx[nodo[i].idx_range]\n",
    "                nodo[i].xyz = nodo.xyz[nodo[i].srt_idx, :]\n",
    "    \n",
    "                srt_y = nodo[i].xyz[sortperm(nodo[i].xyz[:, nodo[i].node_level+1]),\n",
    "                    nodo[i].node_level+1]\n",
    "    \n",
    "                y_tree = spread(srt_y, nodes_ranges, nodes_bounds, xyz_min,\n",
    "                    nodo[i].natoms, cutoff, nlevels, nodo[i].node_level+1, true)\n",
    "                    \n",
    "                nodo[i][j].idx_range = y_tree[j]\n",
    "            \n",
    "                if nodo[i][j].idx_range == 0:0\n",
    "                    nodo[i][j].natoms = 0\n",
    "                    nodo[i][j].srt_idx = [0]\n",
    "                    nodo[i][j].xyz = [0. 0.]\n",
    "                    for k = 1:nodo.n\n",
    "                        nodo[i][j][k].idx_range = 0:0\n",
    "                        nodo[i][j][k].natoms = 0\n",
    "                        nodo[i][j][k].xyz = [0. 0.]\n",
    "                    end\n",
    "                else\n",
    "                    nodo[i][j].natoms = length(nodo[i][j].idx_range)\n",
    "                    nodo[i][j].srt_idx = nodo[i].srt_idx[nodo[i][j].idx_range]\n",
    "                    nodo[i][j].xyz = nodo.xyz[nodo[i][j].srt_idx, :]\n",
    "                end\n",
    "            end end\n",
    "        end\n",
    "    end\n",
    "end"
   ]
  },
  {
   "cell_type": "code",
   "execution_count": 6,
   "metadata": {},
   "outputs": [],
   "source": [
    "using contacto"
   ]
  },
  {
   "cell_type": "code",
   "execution_count": 35,
   "metadata": {},
   "outputs": [
    {
     "name": "stdout",
     "output_type": "stream",
     "text": [
      "0\n",
      "0\n",
      "21\n",
      "25\n",
      "24\n",
      "10\n",
      "1\n",
      "0\n",
      "0\n",
      "0\n",
      "0\n"
     ]
    }
   ],
   "source": [
    "for i = 1:ncells\n",
    "    println(nodo[11][i].natoms)\n",
    "end"
   ]
  },
  {
   "cell_type": "code",
   "execution_count": 36,
   "metadata": {},
   "outputs": [
    {
     "data": {
      "text/plain": [
       "81"
      ]
     },
     "execution_count": 36,
     "metadata": {},
     "output_type": "execute_result"
    }
   ],
   "source": [
    "21 + 25 +24 + 11"
   ]
  },
  {
   "cell_type": "code",
   "execution_count": 15,
   "metadata": {},
   "outputs": [
    {
     "data": {
      "text/plain": [
       "contacto.node(contacto.node[#undef, #undef, #undef, #undef, #undef, #undef, #undef, #undef, #undef, #undef, #undef], 11, 3, 0:0, #undef, 0, #undef)"
      ]
     },
     "execution_count": 15,
     "metadata": {},
     "output_type": "execute_result"
    }
   ],
   "source": [
    "nodo[1, 1][4]"
   ]
  },
  {
   "cell_type": "code",
   "execution_count": 10,
   "metadata": {},
   "outputs": [
    {
     "data": {
      "text/plain": [
       "1×2 Array{Int64,2}:\n",
       " 1  4"
      ]
     },
     "execution_count": 10,
     "metadata": {},
     "output_type": "execute_result"
    }
   ],
   "source": [
    "[ i j ]"
   ]
  },
  {
   "cell_type": "code",
   "execution_count": 54,
   "metadata": {},
   "outputs": [
    {
     "ename": "BoundsError",
     "evalue": "BoundsError: attempt to access 11\n  at index [12]",
     "output_type": "error",
     "traceback": [
      "BoundsError: attempt to access 11\n  at index [12]",
      "",
      "Stacktrace:",
      " [1] getindex at /home/german/labo/contacto/src/contacto.jl:126 [inlined]",
      " [2] getindex(::contacto.tree, ::Int64, ::Int64, ::Int64) at /home/german/labo/contacto/src/contacto.jl:225",
      " [3] top-level scope at In[54]:1"
     ]
    }
   ],
   "source": [
    "arbol[1, 12, 12]"
   ]
  },
  {
   "cell_type": "code",
   "execution_count": 53,
   "metadata": {},
   "outputs": [],
   "source": [
    "using contacto"
   ]
  },
  {
   "cell_type": "code",
   "execution_count": null,
   "metadata": {},
   "outputs": [],
   "source": []
  },
  {
   "cell_type": "code",
   "execution_count": null,
   "metadata": {},
   "outputs": [],
   "source": []
  },
  {
   "cell_type": "code",
   "execution_count": null,
   "metadata": {},
   "outputs": [],
   "source": []
  },
  {
   "cell_type": "code",
   "execution_count": null,
   "metadata": {},
   "outputs": [],
   "source": []
  },
  {
   "cell_type": "code",
   "execution_count": 88,
   "metadata": {},
   "outputs": [
    {
     "data": {
      "text/plain": [
       "1-element Array{Int64,1}:\n",
       " 27"
      ]
     },
     "execution_count": 88,
     "metadata": {},
     "output_type": "execute_result"
    }
   ],
   "source": [
    "idx_xy = findall(x -> x == tmp_srt_idx_t_xyz_y[lado_y][i],\n",
    "            tmp_srt_idx_t_xyz_x[lado_x])"
   ]
  },
  {
   "cell_type": "code",
   "execution_count": null,
   "metadata": {},
   "outputs": [],
   "source": [
    "y_md_bound = searchsortedlast(srt_y_t_xyz[nodes_indices[i][j]],\n",
    "    (y_min + cutoff * nodes_bounds[k][j]))\n",
    "z_md_bound = searchsortedlast(srt_z_t_xyz[nodes_indices[i][j]],\n",
    "    (z_min + cutoff * nodes_bounds[k][j]))"
   ]
  },
  {
   "cell_type": "code",
   "execution_count": 100,
   "metadata": {},
   "outputs": [
    {
     "data": {
      "text/plain": [
       "4-element Array{Array{Int64,1},1}:\n",
       " [11]                    \n",
       " [6, 5]                  \n",
       " [3, 3, 3, 2]            \n",
       " [2, 1, 2, 1, 2, 1, 1, 1]"
      ]
     },
     "execution_count": 100,
     "metadata": {},
     "output_type": "execute_result"
    }
   ],
   "source": [
    "lado_y = 1\n",
    "for i = 1:length(tmp_srt_idx_t_xyz_y[lado_y])\n",
    "    lado_x = 1\n",
    "    idx_xy = findall(x -> x == tmp_srt_idx_t_xyz_y[lado_y][i],\n",
    "            tmp_srt_idx_t_xyz_x[lado_x])\n",
    "    \n",
    "    lado_z = 1\n",
    "    if isempty(idx_xy)\n",
    "    # está en -x, -y, \n",
    "        idx_zy = findall(z -> z == tmp_srt_idx_t_xyz_y[lado_y][i],\n",
    "            tmp_srt_idx_t_xyz_z[lado_z])\n",
    "        \n",
    "        if isempty(idx_yz)\n",
    "        # está en -x, -y, -z\n",
    "            \n",
    "        else\n",
    "            \n",
    "        end\n",
    "    \n",
    "        \n",
    "    else\n",
    "        \n",
    "        if  srt_idx_t_xyz[x_lh_bound:x_rh_bound, 1][idx_xy] ==\n",
    "        srt_idx_t_xyz[y_lh_bound:y_rh_bound, 2][i]\n",
    "        \n",
    "            lado_z = 1\n",
    "                \n",
    "            idx_zy = searchsortedlast(srt_idx_t_xyz[z_lh_bound:z_rh_bound, 3],\n",
    "                srt_idx_t_xyz[y_lh_bound:y_rh_bound, 2][i])\n",
    "            if idx_zy != 0\n",
    "                if  srt_idx_t_xyz[z_lh_bound:z_rh_bound, 3][idx_zy] ==\n",
    "                srt_idx_t_xyz[y_lh_bound:y_rh_bound, 2][i]\n",
    "                \n",
    "                    push!(octant_0, i)\n",
    "                end\n",
    "            end\n",
    "        end\n",
    "    end\n",
    "end"
   ]
  }
 ],
 "metadata": {
  "kernelspec": {
   "display_name": "Julia 0.7.0",
   "language": "julia",
   "name": "julia-0.7"
  },
  "language_info": {
   "file_extension": ".jl",
   "mimetype": "application/julia",
   "name": "julia",
   "version": "0.7.0"
  }
 },
 "nbformat": 4,
 "nbformat_minor": 2
}
