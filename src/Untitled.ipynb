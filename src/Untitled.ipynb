{
 "cells": [
  {
   "cell_type": "markdown",
   "metadata": {},
   "source": [
    "ctro = round.([ x_min + espacio[1]/2, y_min + espacio[2]/2,  z_min + espacio[3]/2 ], digits = 3)\n",
    "\n",
    "dim = ncells * cutoff\n",
    "\n",
    "half_dim = round(dim / 2, digits = 3)\n",
    "\n",
    "sa = contacto.Voxel(ctro, half_dim, 0)"
   ]
  },
  {
   "cell_type": "code",
   "execution_count": 2,
   "metadata": {},
   "outputs": [],
   "source": [
    "using Revise\n",
    "using Chemfiles\n",
    "using contacto\n",
    "using StaticArrays"
   ]
  },
  {
   "cell_type": "code",
   "execution_count": 3,
   "metadata": {},
   "outputs": [
    {
     "name": "stderr",
     "output_type": "stream",
     "text": [
      "┌ Warning: `finalizer(o, f::Function)` is deprecated, use `finalizer(f, o)` instead.\n",
      "│   caller = Type at Chemfiles.jl:35 [inlined]\n",
      "└ @ Core /home/german/.julia/packages/Chemfiles/MzvVI/src/Chemfiles.jl:35\n",
      "┌ Warning: `assert` is deprecated, use `@assert` instead.\n",
      "│   caller = read(::Trajectory) at Trajectory.jl:36\n",
      "└ @ Chemfiles /home/german/.julia/packages/Chemfiles/MzvVI/src/Trajectory.jl:36\n",
      "┌ Warning: `finalizer(o, f::Function)` is deprecated, use `finalizer(f, o)` instead.\n",
      "│   caller = Type at Chemfiles.jl:108 [inlined]\n",
      "└ @ Core /home/german/.julia/packages/Chemfiles/MzvVI/src/Chemfiles.jl:108\n",
      "┌ Warning: `assert` is deprecated, use `@assert` instead.\n",
      "│   caller = ip:0x0\n",
      "└ @ Core :-1\n",
      "┌ Warning: `finalizer(o, f::Function)` is deprecated, use `finalizer(f, o)` instead.\n",
      "│   caller = Type at Chemfiles.jl:51 [inlined]\n",
      "└ @ Core /home/german/.julia/packages/Chemfiles/MzvVI/src/Chemfiles.jl:51\n",
      "┌ Warning: `unsafe_wrap(T, pointer, dims, own)` is deprecated, use `unsafe_wrap(T, pointer, dims, own=own)` instead.\n",
      "│   caller = positions(::Frame) at Frame.jl:56\n",
      "└ @ Chemfiles /home/german/.julia/packages/Chemfiles/MzvVI/src/Frame.jl:56\n"
     ]
    }
   ],
   "source": [
    "in_trj = Trajectory(\"/home/german/labo/contacto/aux/1mtn.pdb\")\n",
    "in_frm = read(in_trj)\n",
    "in_top = Topology(in_frm)\n",
    "coords = round.(positions(in_frm), digits = 3)\n",
    "natoms = size(coords)[2]\n",
    "\n",
    "#############\n",
    "\n",
    "cutoff = round(5., digits = 3)\n",
    "resolution = .1\n",
    "t_xyz = transpose(coords)\n",
    "\n",
    "srt_x_idx_t_xyz = sortperm(t_xyz[:, 1])\n",
    "srt_x_t_xyz = t_xyz[srt_x_idx_t_xyz, 1]\n",
    "\n",
    "x_min = floor(srt_x_t_xyz[1])\n",
    "x_max = ceil(srt_x_t_xyz[end])\n",
    "y_min = floor(minimum(t_xyz[:, 2]))\n",
    "y_max = ceil(maximum(t_xyz[:, 2]))\n",
    "z_min = floor(minimum(t_xyz[:, 3]))\n",
    "z_max = ceil(maximum(t_xyz[:, 3]))\n",
    "\n",
    "espacio = [ x_max - x_min ; y_max - y_min ; z_max - z_min ]\n",
    "ncells = convert(Int64, ceil(maximum(espacio) / cutoff))\n",
    "box_dim = [ x_min, x_max, y_min, y_max, z_min, z_max ]\n",
    "box_vtces = hcat(\n",
    "    [ x_min ; x_max ; x_min ; x_max ; x_min ; x_max ; x_min ; x_max ], \n",
    "    [ y_min ; y_min ; y_max ; y_max ; y_min ; y_min ; y_max ; y_max ],\n",
    "    [ z_min ; z_min ; z_min ; z_min ; z_max ; z_max ; z_max ; z_max ])\n",
    "#############\n",
    "\n",
    "init_vox = vcat([ x_min y_min z_min ], [ x_min+cutoff y_min z_min ],\n",
    "    [ x_min y_min+cutoff z_min ], [ x_min+cutoff y_min+cutoff z_min ],\n",
    "    [ x_min y_min z_min+cutoff ], [ x_min+cutoff y_min z_min+cutoff ],\n",
    "    [ x_min y_min+cutoff z_min+cutoff ], [ x_min+cutoff y_min+cutoff z_min+cutoff ])\n",
    "\n",
    "celdas = Array{Array{Float64, 2}, 1}(undef, ncells^3);\n",
    "let cell_vtces = init_vox, m = 1, vect_z = zeros(8)\n",
    "    for i = 1:ncells\n",
    "        let vect_y = zeros(8)\n",
    "            for j = 1:ncells\n",
    "                let vect_x = zeros(8)\n",
    "                    for k = 1:ncells\n",
    "                        global celdas[m] = cell_vtces + hcat(vect_x, vect_y, vect_z)\n",
    "                        m += 1\n",
    "                        vect_x .+= cutoff\n",
    "                    end\n",
    "                end\n",
    "                vect_y .+= cutoff\n",
    "            end\n",
    "        end\n",
    "        vect_z .+= cutoff\n",
    "    end\n",
    "end\n",
    "\n",
    "#############\n",
    "nlevels = convert(Int64, ceil(log2(ncells)))\n",
    "nnodes = sum([ 2^x for x in 1:(nlevels) ]) ; sobra = (2^nlevels - ncells) * 2 ; nnodes -= sobra\n",
    "\n",
    "nodes_anchos = Array{Array{Int64, 1}, 1}(undef, nlevels+1)\n",
    "nodes_anchos[1] = [ncells]\n",
    "nodes_ranges = Array{Array{Tuple{Int64,Int64}, 1}, 1}(undef, nlevels+1)\n",
    "nodes_ranges[1] = [(0, ncells)]\n",
    "nodes_bounds = Array{Array{Int64, 1}, 1}(undef, nlevels+1)\n",
    "nodes_bounds[1] = [ncells]\n",
    "\n",
    "let i = 1, j = 1; for i = 1:nlevels\n",
    "    k = i + 1\n",
    "    nodes_anchos[k] = []\n",
    "    nodes_ranges[k] = []\n",
    "    nodes_bounds[k] = []\n",
    "    prev = 0\n",
    "    for j = 1:2^(i-1)\n",
    "        \n",
    "        lh_node_ancho = convert(Int64, ceil(nodes_anchos[i][j] / 2))\n",
    "        rh_node_ancho = nodes_anchos[i][j] - lh_node_ancho\n",
    "        push!(nodes_anchos[k], lh_node_ancho)\n",
    "        push!(nodes_anchos[k], rh_node_ancho)\n",
    "        \n",
    "        rango = nodes_ranges[i][j][2] - nodes_ranges[i][j][1]\n",
    "        lh_node_rango = convert(Int64, ceil(rango / 2)) + prev\n",
    "        rh_node_rango = rango + prev\n",
    "        push!(nodes_ranges[k], (prev, lh_node_rango))\n",
    "        push!(nodes_ranges[k], (lh_node_rango, rh_node_rango))\n",
    "            \n",
    "        push!(nodes_bounds[k], lh_node_rango)\n",
    "        prev = rh_node_rango\n",
    "    end\n",
    "end\n",
    "end"
   ]
  },
  {
   "cell_type": "code",
   "execution_count": 4,
   "metadata": {},
   "outputs": [
    {
     "data": {
      "text/plain": [
       "5-element Array{Array{Int64,1},1}:\n",
       " [11]                                            \n",
       " [6, 5]                                          \n",
       " [3, 3, 3, 2]                                    \n",
       " [2, 1, 2, 1, 2, 1, 1, 1]                        \n",
       " [1, 1, 1, 0, 1, 1, 1, 0, 1, 1, 1, 0, 1, 0, 1, 0]"
      ]
     },
     "execution_count": 4,
     "metadata": {},
     "output_type": "execute_result"
    }
   ],
   "source": [
    "nodes_anchos"
   ]
  },
  {
   "cell_type": "code",
   "execution_count": 5,
   "metadata": {},
   "outputs": [
    {
     "data": {
      "text/plain": [
       "5-element Array{Array{Tuple{Int64,Int64},1},1}:\n",
       " [(0, 11)]                                                                                                                              \n",
       " [(0, 6), (6, 11)]                                                                                                                      \n",
       " [(0, 3), (3, 6), (6, 9), (9, 11)]                                                                                                      \n",
       " [(0, 2), (2, 3), (3, 5), (5, 6), (6, 8), (8, 9), (9, 10), (10, 11)]                                                                    \n",
       " [(0, 1), (1, 2), (2, 3), (3, 3), (3, 4), (4, 5), (5, 6), (6, 6), (6, 7), (7, 8), (8, 9), (9, 9), (9, 10), (10, 10), (10, 11), (11, 11)]"
      ]
     },
     "execution_count": 5,
     "metadata": {},
     "output_type": "execute_result"
    }
   ],
   "source": [
    "nodes_ranges"
   ]
  },
  {
   "cell_type": "code",
   "execution_count": 6,
   "metadata": {},
   "outputs": [
    {
     "data": {
      "text/plain": [
       "5-element Array{Array{Int64,1},1}:\n",
       " [11]                      \n",
       " [6]                       \n",
       " [3, 9]                    \n",
       " [2, 5, 8, 10]             \n",
       " [1, 3, 4, 6, 7, 9, 10, 11]"
      ]
     },
     "execution_count": 6,
     "metadata": {},
     "output_type": "execute_result"
    }
   ],
   "source": [
    "nodes_bounds"
   ]
  },
  {
   "cell_type": "code",
   "execution_count": 7,
   "metadata": {},
   "outputs": [],
   "source": [
    "nodes_indices_x = Array{Array{UnitRange{Int64}, 1}, 1}(undef, nlevels+1)\n",
    "nodes_indices_x[1] = [1:natoms]\n",
    "for i = 1:nlevels\n",
    "    k = i + 1\n",
    "    nodes_indices_x[k] = []\n",
    "    for j = 1:2^(i-1)\n",
    "        englobing_range = nodes_indices_x[i][j]\n",
    "        ancho = nodes_ranges[k][j*2][2] - nodes_ranges[k][j*2-1][1]\n",
    "        if ancho > 1\n",
    "            if length(englobing_range) > 1\n",
    "                x_idx = searchsortedlast(srt_x_t_xyz[englobing_range],\n",
    "                    (x_min + cutoff * nodes_bounds[k][j])) \n",
    "        \n",
    "                if x_idx == 0\n",
    "                    # Todos los átomos en la celda de la derecha\n",
    "                    push!(nodes_indices_x[k], 0:0)\n",
    "                    push!(nodes_indices_x[k], englobing_range)\n",
    "                elseif x_idx == length(englobing_range)\n",
    "                    # Todos los átomos en la celda de la izquierda\n",
    "                    push!(nodes_indices_x[k], englobing_range)\n",
    "                    push!(nodes_indices_x[k], 0:0)\n",
    "                else\n",
    "                    # Divido en 2 celdas más \n",
    "                    x_boundary = x_idx + englobing_range.start - 1\n",
    "                    push!(nodes_indices_x[k],\n",
    "                        nodes_indices_x[i][j].start:x_boundary)\n",
    "                    push!(nodes_indices_x[k],\n",
    "                        x_boundary+1:nodes_indices_x[i][j].stop)\n",
    "                end\n",
    "            elseif englobing_range.start == 0 & englobing_range.stop == 0\n",
    "                # 0 átomos en la celda\n",
    "                push!(nodes_indices_x[k], 0:0)\n",
    "                push!(nodes_indices_x[k], 0:0)\n",
    "            else\n",
    "                error(\"re loco.\")\n",
    "            end\n",
    "        else\n",
    "            push!(nodes_indices_x[k], englobing_range)\n",
    "        end\n",
    "    end\n",
    "end"
   ]
  },
  {
   "cell_type": "code",
   "execution_count": 8,
   "metadata": {},
   "outputs": [
    {
     "data": {
      "text/plain": [
       "12"
      ]
     },
     "execution_count": 8,
     "metadata": {},
     "output_type": "execute_result"
    }
   ],
   "source": [
    "pl = 1\n",
    "\n",
    "#if !(nodes_indices_x[end][pl].start == 0 & nodes_indices_x[end][pl].start == 0)\n",
    "\n",
    "t_xyz_plano = t_xyz[srt_x_idx_t_xyz[nodes_indices_x[end][pl]], :]\n",
    "srt_y_idx_t_xyz_plano = sortperm(t_xyz_plano[:, 2])\n",
    "srt_y_t_xyz_plano = t_xyz_plano[srt_y_idx_t_xyz_plano, 2]\n",
    "\n",
    "nlevels\n",
    "ncells\n",
    "nnodes\n",
    "natoms_plano = length(nodes_indices_x[end][pl])"
   ]
  },
  {
   "cell_type": "code",
   "execution_count": 9,
   "metadata": {},
   "outputs": [],
   "source": [
    "nodes_indices_y_plano = Array{Array{UnitRange{Int64}, 1}, 1}(undef, nlevels+1)\n",
    "nodes_indices_y_plano[1] = [1:natoms_plano]\n",
    "\n",
    "for i = 1:nlevels\n",
    "    k = i + 1\n",
    "    nodes_indices_y_plano[k] = []\n",
    "    for j = 1:2^(i-1)\n",
    "        englobing_range = nodes_indices_y_plano[i][j]\n",
    "        ancho = nodes_ranges[k][j*2][2] - nodes_ranges[k][j*2-1][1]\n",
    "        if ancho > 1 \n",
    "            if length(englobing_range) > 1\n",
    "                y_idx = searchsortedlast(\n",
    "                    srt_y_t_xyz_plano[englobing_range],\n",
    "                    (y_min + cutoff * nodes_bounds[k][j])) \n",
    "                \n",
    "                if y_idx == 0\n",
    "                    # Todos los átomos en la celda de la derecha\n",
    "                    push!(nodes_indices_y_plano[k], 0:0)\n",
    "                    push!(nodes_indices_y_plano[k], englobing_range)\n",
    "                elseif y_idx == length(englobing_range)\n",
    "                    # Todos los átomos en la celda de la izquierda\n",
    "                    push!(nodes_indices_y_plano[k], englobing_range)\n",
    "                    push!(nodes_indices_y_plano[k], 0:0)\n",
    "                else\n",
    "                    # Divido en 2 celdas más \n",
    "                    y_boundary = y_idx + englobing_range.start - 1\n",
    "                    push!(nodes_indices_y_plano[k],\n",
    "                        nodes_indices_y_plano[i][j].start:y_boundary - 1)\n",
    "                    push!(nodes_indices_y_plano[k],\n",
    "                        y_boundary:nodes_indices_y_plano[i][j].stop)\n",
    "                end\n",
    "            elseif englobing_range.start == 0 & englobing_range.stop == 0\n",
    "                # 0 átomos en la celda\n",
    "                push!(nodes_indices_y_plano[k], 0:0)\n",
    "                push!(nodes_indices_y_plano[k], 0:0)\n",
    "            else\n",
    "                error(\"re loco.\")\n",
    "            end\n",
    "        else\n",
    "            push!(nodes_indices_y_plano[k], englobing_range)\n",
    "        end\n",
    "    end\n",
    "end"
   ]
  },
  {
   "cell_type": "code",
   "execution_count": 59,
   "metadata": {},
   "outputs": [
    {
     "ename": "BoundsError",
     "evalue": "BoundsError: attempt to access 1989-element Array{Int64,1} at index [0:0]",
     "output_type": "error",
     "traceback": [
      "BoundsError: attempt to access 1989-element Array{Int64,1} at index [0:0]",
      "",
      "Stacktrace:",
      " [1] throw_boundserror(::Array{Int64,1}, ::Tuple{UnitRange{Int64}}) at ./abstractarray.jl:492",
      " [2] checkbounds at ./abstractarray.jl:457 [inlined]",
      " [3] getindex(::Array{Int64,1}, ::UnitRange{Int64}) at ./array.jl:737",
      " [4] top-level scope at In[59]:5"
     ]
    }
   ],
   "source": [
    "eje = 1\n",
    "\n",
    "#if !(nodes_indices_x[end][eje].start == 0 & nodes_indices_x[end][eje].start == 0)\n",
    "\n",
    "t_xyz_eje = t_xyz[srt_x_idx_t_xyz[nodes_indices_y_plano[end][eje]], :]\n",
    "srt_z_idx_t_xyz_eje = sortperm(t_xyz_eje[:, ]) \n",
    "srt_z_t_xyz_eje = t_xyz_eje[srt_z_idx_t_xyz_eje, 3]\n",
    "\n",
    "nlevels\n",
    "ncells\n",
    "nnodes\n",
    "natoms_eje = length(nodes_indices_y_plano[end][eje])"
   ]
  },
  {
   "cell_type": "code",
   "execution_count": 10,
   "metadata": {},
   "outputs": [
    {
     "data": {
      "text/plain": [
       "11-element Array{UnitRange{Int64},1}:\n",
       " 1:12     \n",
       " 13:50    \n",
       " 51:118   \n",
       " 119:247  \n",
       " 248:437  \n",
       " 438:699  \n",
       " 700:1046 \n",
       " 1047:1411\n",
       " 1412:1691\n",
       " 1692:1908\n",
       " 1909:1989"
      ]
     },
     "execution_count": 10,
     "metadata": {},
     "output_type": "execute_result"
    }
   ],
   "source": [
    "nodes_indices_x[end]"
   ]
  },
  {
   "cell_type": "code",
   "execution_count": 11,
   "metadata": {},
   "outputs": [
    {
     "data": {
      "text/plain": [
       "11-element Array{UnitRange{Int64},1}:\n",
       " 0:0 \n",
       " 0:0 \n",
       " 1:4 \n",
       " 5:12\n",
       " 0:0 \n",
       " 0:0 \n",
       " 0:0 \n",
       " 0:0 \n",
       " 0:0 \n",
       " 0:0 \n",
       " 0:0 "
      ]
     },
     "execution_count": 11,
     "metadata": {},
     "output_type": "execute_result"
    }
   ],
   "source": [
    "nodes_indices_y_plano[end]"
   ]
  },
  {
   "cell_type": "code",
   "execution_count": null,
   "metadata": {},
   "outputs": [],
   "source": []
  },
  {
   "cell_type": "code",
   "execution_count": null,
   "metadata": {},
   "outputs": [],
   "source": []
  },
  {
   "cell_type": "markdown",
   "metadata": {},
   "source": [
    "# Este será el código posta"
   ]
  },
  {
   "cell_type": "code",
   "execution_count": 149,
   "metadata": {},
   "outputs": [],
   "source": [
    "in_trj = Trajectory(\"/home/german/labo/contacto/aux/1mtn.pdb\")\n",
    "in_frm = read(in_trj)\n",
    "in_top = Topology(in_frm)\n",
    "coords = positions(in_frm) \n",
    "cutoff = round(5., digits = 3)\n",
    "resolution = .1\n",
    "\n",
    "###################\n",
    "\n",
    "xyz = round.(transpose(coords), digits = 3)\n",
    "natoms = size(xyz)[1]\n",
    "\n",
    "x_min = floor(minimum(xyz[:, 1]))\n",
    "x_max = ceil(maximum(xyz[:, 1]))\n",
    "y_min = floor(minimum(xyz[:, 2]))\n",
    "y_max = ceil(maximum(xyz[:, 2]))\n",
    "z_min = floor(minimum(xyz[:, 3]))\n",
    "z_max = ceil(maximum(xyz[:, 3]))\n",
    "\n",
    "espacio = [ x_max - x_min ; y_max - y_min ; z_max - z_min ]\n",
    "ncells = convert(Int64, ceil(maximum(espacio) / cutoff))\n",
    "box_dim = [ x_min, x_max, y_min, y_max, z_min, z_max ]\n",
    "xyz_min = [ x_min, y_min, z_min ]\n",
    "\n",
    "box_vtces = hcat(\n",
    "    [ x_min ; x_max ; x_min ; x_max ; x_min ; x_max ; x_min ; x_max ], \n",
    "    [ y_min ; y_min ; y_max ; y_max ; y_min ; y_min ; y_max ; y_max ],\n",
    "    [ z_min ; z_min ; z_min ; z_min ; z_max ; z_max ; z_max ; z_max ])\n",
    "\n",
    "init_vox = vcat([ x_min y_min z_min ], [ x_min+cutoff y_min z_min ],\n",
    "    [ x_min y_min+cutoff z_min ], [ x_min+cutoff y_min+cutoff z_min ],\n",
    "    [ x_min y_min z_min+cutoff ], [ x_min+cutoff y_min z_min+cutoff ],\n",
    "    [ x_min y_min+cutoff z_min+cutoff ], [ x_min+cutoff y_min+cutoff z_min+cutoff ])\n",
    "\n",
    "celdas = Array{Array{Float64, 2}, 1}(undef, ncells^3);\n",
    "let cell_vtces = init_vox, m = 1, vect_z = zeros(8)\n",
    "    for i = 1:ncells\n",
    "        let vect_y = zeros(8)\n",
    "            for j = 1:ncells\n",
    "                let vect_x = zeros(8)\n",
    "                    for k = 1:ncells\n",
    "                        global celdas[m] = cell_vtces + hcat(vect_x, vect_y, vect_z)\n",
    "                        m += 1\n",
    "                        vect_x .+= cutoff\n",
    "                    end\n",
    "                end\n",
    "                vect_y .+= cutoff\n",
    "            end\n",
    "        end\n",
    "        vect_z .+= cutoff\n",
    "    end\n",
    "end\n",
    "\n",
    "nlevels = convert(Int64, ceil(log2(ncells)))\n",
    "nodes_ranges = Array{Array{Tuple{Int64,Int64}, 1}, 1}(undef, nlevels+1)\n",
    "nodes_ranges[1] = [(0, ncells)]\n",
    "nodes_bounds = Array{Array{Int64, 1}, 1}(undef, nlevels+1)\n",
    "nodes_bounds[1] = [ncells]\n",
    "\n",
    "let i = 1, j = 1; for i = 1:nlevels\n",
    "    k = i + 1\n",
    "    nodes_ranges[k] = []\n",
    "    nodes_bounds[k] = []\n",
    "    prev = 0\n",
    "    for j = 1:2^(i-1)\n",
    "        rango = nodes_ranges[i][j][2] - nodes_ranges[i][j][1]\n",
    "        lh_node_rango = convert(Int64, ceil(rango / 2)) + prev\n",
    "        rh_node_rango = rango + prev\n",
    "        push!(nodes_ranges[k], (prev, lh_node_rango))\n",
    "        push!(nodes_ranges[k], (lh_node_rango, rh_node_rango))\n",
    "            \n",
    "        push!(nodes_bounds[k], lh_node_rango)\n",
    "        prev = rh_node_rango\n",
    "    end\n",
    "end\n",
    "end"
   ]
  },
  {
   "cell_type": "code",
   "execution_count": 150,
   "metadata": {},
   "outputs": [
    {
     "data": {
      "text/plain": [
       "1-element Array{Array{Int64,1},1}:\n",
       " [1, 2, 3, 4, 5, 6, 7, 8, 9, 10  …  1980, 1981, 1982, 1983, 1984, 1985, 1986, 1987, 1988, 1989]"
      ]
     },
     "execution_count": 150,
     "metadata": {},
     "output_type": "execute_result"
    }
   ],
   "source": [
    "nodes_indices = Array{Array{Array{UnitRange{Int64}, 1}, 1}, 1}(undef, 3)\n",
    "arbol = Array{Array{Array{UnitRange{Int64}, 1}, 1}, 1}(undef, 4)\n",
    "srt_idx_tree = Array{Array{Array{Int64, 1}, 1}, 1}(undef, 4)\n",
    "\n",
    "arbol[1] = [[1:natoms]]\n",
    "arbol[2] = Array{Array{UnitRange{Int64}, 1}, 1}(undef, 1)\n",
    "arbol[3] = Array{Array{UnitRange{Int64}, 1}, 1}(undef, ncells)\n",
    "arbol[4] = Array{Array{UnitRange{Int64}, 1}, 1}(undef, ncells^2)\n",
    "\n",
    "srt_idx_tree[2] = Array{Array{Int64, 1}, 1}(undef, 1)\n",
    "srt_idx_tree[3] = Array{Array{Int64, 1}, 1}(undef, ncells)\n",
    "srt_idx_tree[4] = Array{Array{Int64, 1}, 1}(undef, ncells^2)\n",
    "\n",
    "srt_idx_tree[1] = [collect(1:natoms)]"
   ]
  },
  {
   "cell_type": "code",
   "execution_count": 153,
   "metadata": {},
   "outputs": [],
   "source": [
    "d = 2\n",
    "pl = 1\n",
    "ej = 1\n",
    "\n",
    "idx_up = arbol[d][pl][ej]\n",
    "tre_up = srt_idx_tree[d][pl]\n",
    "tre_at = Array{Int64, 1}\n",
    "\n",
    "natoms = length(idx_up)\n",
    "xyz_plano = xyz[tre_up[idx_up], :]\n",
    "tre_at = sortperm(xyz_plano[:, d])\n",
    "srt_xyz = xyz_plano[tre_at, d];"
   ]
  },
  {
   "cell_type": "code",
   "execution_count": 154,
   "metadata": {},
   "outputs": [],
   "source": [
    "nodes_indices_xyz = Array{Array{UnitRange{Int64}, 1}, 1}(undef, nlevels+1)\n",
    "nodes_indices_xyz[1] = [1:natoms]\n",
    "\n",
    "for i = 1:nlevels\n",
    "    k = i + 1\n",
    "    nodes_indices_xyz[k] = []\n",
    "    for j = 1:2^(i-1)\n",
    "        englobing_range = nodes_indices_xyz[i][j]\n",
    "        ancho = nodes_ranges[k][j*2][2] - nodes_ranges[k][j*2-1][1]\n",
    "        if ancho > 1\n",
    "            if length(englobing_range) > 1\n",
    "                xyz_idx = searchsortedlast(srt_xyz[englobing_range],\n",
    "                    (xyz_min[d] + cutoff * nodes_bounds[k][j]))\n",
    "        \n",
    "                if xyz_idx == 0\n",
    "                    # Todos los átomos en la celda de la derecha\n",
    "                    push!(nodes_indices_xyz[k], 0:0)\n",
    "                    push!(nodes_indices_xyz[k], englobing_range)\n",
    "                elseif xyz_idx == length(englobing_range)\n",
    "                    # Todos los átomos en la celda de la izquierda\n",
    "                    push!(nodes_indices_xyz[k], englobing_range)\n",
    "                    push!(nodes_indices_xyz[k], 0:0)\n",
    "                else\n",
    "                    # Divido en 2 celdas más \n",
    "                    xyz_boundary = xyz_idx + englobing_range.start - 1\n",
    "                    push!(nodes_indices_xyz[k],\n",
    "                        nodes_indices_xyz[i][j].start:xyz_boundary)\n",
    "                    push!(nodes_indices_xyz[k],\n",
    "                        xyz_boundary+1:nodes_indices_xyz[i][j].stop)\n",
    "                end\n",
    "            elseif englobing_range.start == 0 & englobing_range.stop == 0\n",
    "                # 0 átomos en la celda\n",
    "                push!(nodes_indices_xyz[k], 0:0)\n",
    "                push!(nodes_indices_xyz[k], 0:0)\n",
    "            else\n",
    "                error(\"re loco.\")\n",
    "            end\n",
    "        else\n",
    "            push!(nodes_indices_xyz[k], englobing_range)\n",
    "        end\n",
    "    end\n",
    "end\n",
    "\n",
    "#nodes_indices[d] = nodes_indices_xyz\n",
    "arbol[d+1][pl] = nodes_indices_xyz[end]\n",
    "srt_idx_tree[d+1][pl] = tre_at;"
   ]
  },
  {
   "cell_type": "code",
   "execution_count": 145,
   "metadata": {},
   "outputs": [
    {
     "data": {
      "text/plain": [
       "12×3 Array{Float64,2}:\n",
       " -37.345  23.789  -32.38 \n",
       " -36.838  22.714  -33.699\n",
       " -36.731  23.087  -32.766\n",
       " -36.295  23.647  -30.474\n",
       " -35.997  22.375  -31.997\n",
       " -35.955  22.722  -30.694\n",
       " -35.342  22.357  -29.979\n",
       " -35.202  21.443  -32.49 \n",
       " -35.194  21.324  -33.493\n",
       " -34.515  20.57   -30.768\n",
       " -34.325  19.536  -32.113\n",
       " -34.259  20.586  -31.828"
      ]
     },
     "execution_count": 145,
     "metadata": {},
     "output_type": "execute_result"
    }
   ],
   "source": [
    "xyz_plano"
   ]
  },
  {
   "cell_type": "code",
   "execution_count": 166,
   "metadata": {},
   "outputs": [
    {
     "data": {
      "text/plain": [
       "1989-element Array{Int64,1}:\n",
       "  241\n",
       "  242\n",
       "  240\n",
       "  238\n",
       "  236\n",
       "  237\n",
       "  239\n",
       "  234\n",
       "  235\n",
       "  233\n",
       "  232\n",
       "  231\n",
       "  228\n",
       "    ⋮\n",
       "  766\n",
       "  717\n",
       " 1444\n",
       "  705\n",
       " 1443\n",
       "  719\n",
       "  716\n",
       "  718\n",
       "  706\n",
       "  708\n",
       "  710\n",
       "  709"
      ]
     },
     "execution_count": 166,
     "metadata": {},
     "output_type": "execute_result"
    }
   ],
   "source": [
    "srt_idx_tree[2][1]"
   ]
  },
  {
   "cell_type": "code",
   "execution_count": 173,
   "metadata": {},
   "outputs": [
    {
     "data": {
      "text/plain": [
       "11-element Array{UnitRange{Int64},1}:\n",
       " 1:12     \n",
       " 13:50    \n",
       " 51:118   \n",
       " 119:247  \n",
       " 248:437  \n",
       " 438:699  \n",
       " 700:1046 \n",
       " 1047:1411\n",
       " 1412:1691\n",
       " 1692:1908\n",
       " 1909:1989"
      ]
     },
     "execution_count": 173,
     "metadata": {},
     "output_type": "execute_result"
    }
   ],
   "source": [
    "arbol[2][1]"
   ]
  },
  {
   "cell_type": "code",
   "execution_count": 171,
   "metadata": {},
   "outputs": [
    {
     "data": {
      "text/plain": [
       "1989-element Array{Int64,1}:\n",
       "  241\n",
       "  242\n",
       "  240\n",
       "  238\n",
       "  236\n",
       "  237\n",
       "  239\n",
       "  234\n",
       "  235\n",
       "  233\n",
       "  232\n",
       "  231\n",
       "  228\n",
       "    ⋮\n",
       "  766\n",
       "  717\n",
       " 1444\n",
       "  705\n",
       " 1443\n",
       "  719\n",
       "  716\n",
       "  718\n",
       "  706\n",
       "  708\n",
       "  710\n",
       "  709"
      ]
     },
     "execution_count": 171,
     "metadata": {},
     "output_type": "execute_result"
    }
   ],
   "source": [
    "srt_idx_tree[2][1]"
   ]
  },
  {
   "cell_type": "code",
   "execution_count": 163,
   "metadata": {},
   "outputs": [
    {
     "data": {
      "text/plain": [
       "1989-element Array{Int64,1}:\n",
       "  241\n",
       "  242\n",
       "  240\n",
       "  238\n",
       "  236\n",
       "  237\n",
       "  239\n",
       "  234\n",
       "  235\n",
       "  233\n",
       "  232\n",
       "  231\n",
       "  228\n",
       "    ⋮\n",
       "  766\n",
       "  717\n",
       " 1444\n",
       "  705\n",
       " 1443\n",
       "  719\n",
       "  716\n",
       "  718\n",
       "  706\n",
       "  708\n",
       "  710\n",
       "  709"
      ]
     },
     "execution_count": 163,
     "metadata": {},
     "output_type": "execute_result"
    }
   ],
   "source": [
    "d = 2\n",
    "pl = 1\n",
    "ej = 2\n",
    "\n",
    "idx_up = arbol[d][pl][ej]\n",
    "tre_up = srt_idx_tree[d][pl]"
   ]
  },
  {
   "cell_type": "code",
   "execution_count": null,
   "metadata": {},
   "outputs": [],
   "source": []
  },
  {
   "cell_type": "code",
   "execution_count": 191,
   "metadata": {},
   "outputs": [
    {
     "data": {
      "text/plain": [
       "node_3(node_3[#undef, #undef, #undef, #undef, #undef, #undef, #undef, #undef, #undef, #undef, #undef], 1:10, [1, 2, 3])"
      ]
     },
     "execution_count": 191,
     "metadata": {},
     "output_type": "execute_result"
    }
   ],
   "source": [
    "as = node_3(11, 1:10, [1, 2, 3])"
   ]
  },
  {
   "cell_type": "code",
   "execution_count": 193,
   "metadata": {},
   "outputs": [
    {
     "data": {
      "text/plain": [
       "11-element Array{node_3,1}:\n",
       " #undef\n",
       " #undef\n",
       " #undef\n",
       " #undef\n",
       " #undef\n",
       " #undef\n",
       " #undef\n",
       " #undef\n",
       " #undef\n",
       " #undef\n",
       " #undef"
      ]
     },
     "execution_count": 193,
     "metadata": {},
     "output_type": "execute_result"
    }
   ],
   "source": [
    "as.childs"
   ]
  },
  {
   "cell_type": "code",
   "execution_count": 189,
   "metadata": {},
   "outputs": [],
   "source": [
    "mutable struct node_3\n",
    "    childs::Array{node_3, 1}\n",
    "    idx_range::UnitRange{Int64}\n",
    "    str_idx::Array{Int64, 1}\n",
    "    \n",
    "    node_3() = new()\n",
    "    \n",
    "    function node_3(ncells::Int64, idx_range::UnitRange{Int64}, str_idx::Array{Int64, 1})\n",
    "        new(Array{node_3, 1}(undef, ncells), idx_range, str_idx)\n",
    "    end\n",
    "\n",
    "    \n",
    "end\n",
    "\n",
    "function Base.getindex(n::node_3, i::Int64)\n",
    "    return n.childs[i]\n",
    "end\n"
   ]
  },
  {
   "cell_type": "code",
   "execution_count": 129,
   "metadata": {},
   "outputs": [
    {
     "data": {
      "text/plain": [
       "1-element Array{Array{Int64,1},1}:\n",
       " [241, 242, 240, 238, 236, 237, 239, 234, 235, 233  …  1444, 705, 1443, 719, 716, 718, 706, 708, 710, 709]"
      ]
     },
     "execution_count": 129,
     "metadata": {},
     "output_type": "execute_result"
    }
   ],
   "source": [
    "srt_idx_tree[2]"
   ]
  },
  {
   "cell_type": "code",
   "execution_count": 133,
   "metadata": {},
   "outputs": [
    {
     "data": {
      "text/plain": [
       "1:12"
      ]
     },
     "execution_count": 133,
     "metadata": {},
     "output_type": "execute_result"
    }
   ],
   "source": [
    "arbol[2][1][1]"
   ]
  },
  {
   "cell_type": "code",
   "execution_count": null,
   "metadata": {},
   "outputs": [],
   "source": []
  },
  {
   "cell_type": "code",
   "execution_count": null,
   "metadata": {},
   "outputs": [],
   "source": []
  },
  {
   "cell_type": "code",
   "execution_count": null,
   "metadata": {},
   "outputs": [],
   "source": []
  },
  {
   "cell_type": "code",
   "execution_count": null,
   "metadata": {},
   "outputs": [],
   "source": []
  },
  {
   "cell_type": "code",
   "execution_count": null,
   "metadata": {},
   "outputs": [],
   "source": []
  },
  {
   "cell_type": "code",
   "execution_count": 88,
   "metadata": {},
   "outputs": [
    {
     "data": {
      "text/plain": [
       "1-element Array{Int64,1}:\n",
       " 27"
      ]
     },
     "execution_count": 88,
     "metadata": {},
     "output_type": "execute_result"
    }
   ],
   "source": [
    "idx_xy = findall(x -> x == tmp_srt_idx_t_xyz_y[lado_y][i],\n",
    "            tmp_srt_idx_t_xyz_x[lado_x])"
   ]
  },
  {
   "cell_type": "code",
   "execution_count": null,
   "metadata": {},
   "outputs": [],
   "source": [
    "y_md_bound = searchsortedlast(srt_y_t_xyz[nodes_indices[i][j]],\n",
    "    (y_min + cutoff * nodes_bounds[k][j]))\n",
    "z_md_bound = searchsortedlast(srt_z_t_xyz[nodes_indices[i][j]],\n",
    "    (z_min + cutoff * nodes_bounds[k][j]))"
   ]
  },
  {
   "cell_type": "code",
   "execution_count": 100,
   "metadata": {},
   "outputs": [
    {
     "data": {
      "text/plain": [
       "4-element Array{Array{Int64,1},1}:\n",
       " [11]                    \n",
       " [6, 5]                  \n",
       " [3, 3, 3, 2]            \n",
       " [2, 1, 2, 1, 2, 1, 1, 1]"
      ]
     },
     "execution_count": 100,
     "metadata": {},
     "output_type": "execute_result"
    }
   ],
   "source": [
    "lado_y = 1\n",
    "for i = 1:length(tmp_srt_idx_t_xyz_y[lado_y])\n",
    "    lado_x = 1\n",
    "    idx_xy = findall(x -> x == tmp_srt_idx_t_xyz_y[lado_y][i],\n",
    "            tmp_srt_idx_t_xyz_x[lado_x])\n",
    "    \n",
    "    lado_z = 1\n",
    "    if isempty(idx_xy)\n",
    "    # está en -x, -y, \n",
    "        idx_zy = findall(z -> z == tmp_srt_idx_t_xyz_y[lado_y][i],\n",
    "            tmp_srt_idx_t_xyz_z[lado_z])\n",
    "        \n",
    "        if isempty(idx_yz)\n",
    "        # está en -x, -y, -z\n",
    "            \n",
    "        else\n",
    "            \n",
    "        end\n",
    "    \n",
    "        \n",
    "    else\n",
    "        \n",
    "        if  srt_idx_t_xyz[x_lh_bound:x_rh_bound, 1][idx_xy] ==\n",
    "        srt_idx_t_xyz[y_lh_bound:y_rh_bound, 2][i]\n",
    "        \n",
    "            lado_z = 1\n",
    "                \n",
    "            idx_zy = searchsortedlast(srt_idx_t_xyz[z_lh_bound:z_rh_bound, 3],\n",
    "                srt_idx_t_xyz[y_lh_bound:y_rh_bound, 2][i])\n",
    "            if idx_zy != 0\n",
    "                if  srt_idx_t_xyz[z_lh_bound:z_rh_bound, 3][idx_zy] ==\n",
    "                srt_idx_t_xyz[y_lh_bound:y_rh_bound, 2][i]\n",
    "                \n",
    "                    push!(octant_0, i)\n",
    "                end\n",
    "            end\n",
    "        end\n",
    "    end\n",
    "end"
   ]
  }
 ],
 "metadata": {
  "kernelspec": {
   "display_name": "Julia 0.7.0",
   "language": "julia",
   "name": "julia-0.7"
  },
  "language_info": {
   "file_extension": ".jl",
   "mimetype": "application/julia",
   "name": "julia",
   "version": "0.7.0"
  }
 },
 "nbformat": 4,
 "nbformat_minor": 2
}
