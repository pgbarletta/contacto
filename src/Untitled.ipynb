{
 "cells": [
  {
   "cell_type": "markdown",
   "metadata": {},
   "source": [
    "ctro = round.([ x_min + espacio[1]/2, y_min + espacio[2]/2,  z_min + espacio[3]/2 ], digits = 3)\n",
    "\n",
    "dim = ncells * cutoff\n",
    "\n",
    "half_dim = round(dim / 2, digits = 3)\n",
    "\n",
    "sa = contacto.Voxel(ctro, half_dim, 0)"
   ]
  },
  {
   "cell_type": "code",
   "execution_count": 2,
   "metadata": {},
   "outputs": [],
   "source": [
    "using Revise\n",
    "using Chemfiles\n",
    "using contacto\n",
    "using StaticArrays"
   ]
  },
  {
   "cell_type": "code",
   "execution_count": 76,
   "metadata": {},
   "outputs": [],
   "source": [
    "in_trj = Trajectory(\"/home/german/labo/contacto/aux/1mtn.pdb\")\n",
    "in_frm = read(in_trj)\n",
    "in_top = Topology(in_frm)\n",
    "coords = round.(positions(in_frm), digits = 3)\n",
    "natoms = size(coords)[2]\n",
    "\n",
    "#############\n",
    "\n",
    "cutoff = round(5., digits = 3)\n",
    "resolution = .1\n",
    "t_xyz = transpose(coords)\n",
    "\n",
    "srt_x_idx_t_xyz = sortperm(t_xyz[:, 1])\n",
    "srt_x_t_xyz = t_xyz[srt_x_idx_t_xyz, 1]\n",
    "\n",
    "x_min = srt_x_t_xyz[1]\n",
    "x_max = srt_x_t_xyz[end]\n",
    "y_min = minimum(t_xyz[:, 2])\n",
    "y_max = maximum(t_xyz[:, 2])\n",
    "z_min = minimum(t_xyz[:, 3])\n",
    "z_max = maximum(t_xyz[:, 3])\n",
    "\n",
    "espacio = [ x_max - x_min ; y_max - y_min ; z_max - z_min ]\n",
    "ncells = convert(Int64, ceil(maximum(espacio) / cutoff))\n",
    "\n",
    "#############\n",
    "\n",
    "nlevels = convert(Int64, ceil(log2(ncells)))\n",
    "nnodes = sum([ 2^x for x in 1:(nlevels) ]) ; sobra = (2^nlevels - ncells) * 2 ; nnodes -= sobra\n",
    "\n",
    "nodes_anchos = Array{Array{Int64, 1}, 1}(undef, nlevels+1)\n",
    "nodes_anchos[1] = [ncells]\n",
    "nodes_ranges = Array{Array{Tuple{Int64,Int64}, 1}, 1}(undef, nlevels+1)\n",
    "nodes_ranges[1] = [(0, ncells)]\n",
    "nodes_bounds = Array{Array{Int64, 1}, 1}(undef, nlevels+1)\n",
    "nodes_bounds[1] = [ncells]\n",
    "\n",
    "let i = 1, j = 1; for i = 1:nlevels\n",
    "    k = i + 1\n",
    "    nodes_anchos[k] = []\n",
    "    nodes_ranges[k] = []\n",
    "    nodes_bounds[k] = []\n",
    "    prev = 0\n",
    "    for j = 1:2^(i-1)\n",
    "        \n",
    "        lh_node_ancho = convert(Int64, ceil(nodes_anchos[i][j] / 2))\n",
    "        rh_node_ancho = nodes_anchos[i][j] - lh_node_ancho\n",
    "        push!(nodes_anchos[k], lh_node_ancho)\n",
    "        push!(nodes_anchos[k], rh_node_ancho)\n",
    "        \n",
    "        rango = nodes_ranges[i][j][2] - nodes_ranges[i][j][1]\n",
    "        lh_node_rango = convert(Int64, ceil(rango / 2)) + prev\n",
    "        rh_node_rango = rango + prev\n",
    "        push!(nodes_ranges[k], (prev, lh_node_rango))\n",
    "        push!(nodes_ranges[k], (lh_node_rango, rh_node_rango))\n",
    "            \n",
    "        push!(nodes_bounds[k], lh_node_rango)\n",
    "        prev = rh_node_rango\n",
    "    end\n",
    "end\n",
    "end"
   ]
  },
  {
   "cell_type": "code",
   "execution_count": 77,
   "metadata": {},
   "outputs": [
    {
     "data": {
      "text/plain": [
       "5-element Array{Array{Int64,1},1}:\n",
       " [11]                                            \n",
       " [6, 5]                                          \n",
       " [3, 3, 3, 2]                                    \n",
       " [2, 1, 2, 1, 2, 1, 1, 1]                        \n",
       " [1, 1, 1, 0, 1, 1, 1, 0, 1, 1, 1, 0, 1, 0, 1, 0]"
      ]
     },
     "execution_count": 77,
     "metadata": {},
     "output_type": "execute_result"
    }
   ],
   "source": [
    "nodes_anchos"
   ]
  },
  {
   "cell_type": "code",
   "execution_count": 78,
   "metadata": {},
   "outputs": [
    {
     "data": {
      "text/plain": [
       "5-element Array{Array{Tuple{Int64,Int64},1},1}:\n",
       " [(0, 11)]                                                                                                                              \n",
       " [(0, 6), (6, 11)]                                                                                                                      \n",
       " [(0, 3), (3, 6), (6, 9), (9, 11)]                                                                                                      \n",
       " [(0, 2), (2, 3), (3, 5), (5, 6), (6, 8), (8, 9), (9, 10), (10, 11)]                                                                    \n",
       " [(0, 1), (1, 2), (2, 3), (3, 3), (3, 4), (4, 5), (5, 6), (6, 6), (6, 7), (7, 8), (8, 9), (9, 9), (9, 10), (10, 10), (10, 11), (11, 11)]"
      ]
     },
     "execution_count": 78,
     "metadata": {},
     "output_type": "execute_result"
    }
   ],
   "source": [
    "nodes_ranges"
   ]
  },
  {
   "cell_type": "code",
   "execution_count": 79,
   "metadata": {},
   "outputs": [
    {
     "data": {
      "text/plain": [
       "5-element Array{Array{Int64,1},1}:\n",
       " [11]                      \n",
       " [6]                       \n",
       " [3, 9]                    \n",
       " [2, 5, 8, 10]             \n",
       " [1, 3, 4, 6, 7, 9, 10, 11]"
      ]
     },
     "execution_count": 79,
     "metadata": {},
     "output_type": "execute_result"
    }
   ],
   "source": [
    "nodes_bounds"
   ]
  },
  {
   "cell_type": "code",
   "execution_count": 80,
   "metadata": {},
   "outputs": [],
   "source": [
    "nodes_indices_x = Array{Array{UnitRange{Int64}, 1}, 1}(undef, nlevels+1)\n",
    "nodes_indices_x[1] = [1:natoms]\n",
    "for i = 1:nlevels\n",
    "    k = i + 1\n",
    "    nodes_indices_x[k] = []\n",
    "    for j = 1:2^(i-1)\n",
    "        englobing_range = nodes_indices_x[i][j]\n",
    "        ancho = nodes_ranges[k][j*2][2] - nodes_ranges[k][j*2-1][1]\n",
    "        if ancho > 1\n",
    "            if length(englobing_range) > 1\n",
    "                x_idx = searchsortedlast(srt_x_t_xyz[englobing_range],\n",
    "                    (x_min + cutoff * nodes_bounds[k][j])) \n",
    "        \n",
    "                if x_idx == 0\n",
    "                    # Todos los átomos en la celda de la derecha\n",
    "                    push!(nodes_indices_x[k], 0:0)\n",
    "                    push!(nodes_indices_x[k], englobing_range)\n",
    "                elseif x_idx == length(englobing_range)\n",
    "                    # Todos los átomos en la celda de la izquierda\n",
    "                    push!(nodes_indices_x[k], englobing_range)\n",
    "                    push!(nodes_indices_x[k], 0:0)\n",
    "                else\n",
    "                    # Divido en 2 celdas más \n",
    "                    x_boundary = x_idx + englobing_range.start - 1\n",
    "                    push!(nodes_indices_x[k],\n",
    "                        nodes_indices_x[i][j].start:x_boundary)\n",
    "                    push!(nodes_indices_x[k],\n",
    "                        x_boundary+1:nodes_indices_x[i][j].stop)\n",
    "                end\n",
    "            elseif englobing_range.start == 0 & englobing_range.stop == 0\n",
    "                # 0 átomos en la celda\n",
    "                push!(nodes_indices_x[k], 0:0)\n",
    "                push!(nodes_indices_x[k], 0:0)\n",
    "            else\n",
    "                error(\"re loco.\")\n",
    "            end\n",
    "        else\n",
    "            push!(nodes_indices_x[k], englobing_range)\n",
    "        end\n",
    "    end\n",
    "end"
   ]
  },
  {
   "cell_type": "code",
   "execution_count": 10,
   "metadata": {},
   "outputs": [
    {
     "data": {
      "text/plain": [
       "15"
      ]
     },
     "execution_count": 10,
     "metadata": {},
     "output_type": "execute_result"
    }
   ],
   "source": [
    "pl = 1\n",
    "t_xyz_plano = t_xyz[srt_x_idx_t_xyz[nodes_indices_x[end][pl]], :]\n",
    "srt_y_idx_t_xyz_plano = sortperm(t_xyz_plano[:, 2])\n",
    "srt_y_t_xyz_plano = t_xyz_plano[srt_y_idx_t_xyz_plano, 2]\n",
    "\n",
    "nlevels\n",
    "ncells\n",
    "nnodes\n",
    "natoms_plano = length(nodes_indices_x[end][pl])"
   ]
  },
  {
   "cell_type": "code",
   "execution_count": 69,
   "metadata": {},
   "outputs": [],
   "source": [
    "nodes_indices_y_plano = Array{Array{UnitRange{Int64}, 1}, 1}(undef, nlevels+1)\n",
    "nodes_indices_y_plano[1] = [1:natoms_plano]\n",
    "\n",
    "for i = 1:nlevels\n",
    "    k = i + 1\n",
    "    nodes_indices_y_plano[k] = []\n",
    "    for j = 1:2^(i-1)\n",
    "        englobing_range = nodes_indices_y_plano[i][j]\n",
    "        ancho = nodes_ranges[k][j*2][2] - nodes_ranges[k][j*2-1][1]\n",
    "        if ancho > 1 \n",
    "            if length(englobing_range) > 1\n",
    "                y_idx = searchsortedlast(\n",
    "                    srt_y_t_xyz_plano[englobing_range],\n",
    "                    (y_min + cutoff * nodes_bounds[k][j])) \n",
    "                \n",
    "                if y_idx == 0\n",
    "                    # Todos los átomos en la celda de la derecha\n",
    "                    push!(nodes_indices_y_plano[k], 0:0)\n",
    "                    push!(nodes_indices_y_plano[k], englobing_range)\n",
    "                elseif y_idx == length(englobing_range)\n",
    "                    # Todos los átomos en la celda de la izquierda\n",
    "                    push!(nodes_indices_y_plano[k], englobing_range)\n",
    "                    push!(nodes_indices_y_plano[k], 0:0)\n",
    "                else\n",
    "                    # Divido en 2 celdas más \n",
    "                    y_boundary = y_idx + englobing_range.start - 1\n",
    "                    push!(nodes_indices_y_plano[k],\n",
    "                        nodes_indices_y_plano[i][j].start:y_boundary - 1)\n",
    "                    push!(nodes_indices_y_plano[k],\n",
    "                        y_boundary:nodes_indices_y_plano[i][j].stop)\n",
    "                end\n",
    "            elseif englobing_range.start == 0 & englobing_range.stop == 0\n",
    "                # 0 átomos en la celda\n",
    "                push!(nodes_indices_y_plano[k], 0:0)\n",
    "                push!(nodes_indices_y_plano[k], 0:0)\n",
    "            else\n",
    "                error(\"re loco.\")\n",
    "            end\n",
    "        else\n",
    "            push!(nodes_indices_y_plano[k], englobing_range)\n",
    "        end\n",
    "    end\n",
    "end"
   ]
  },
  {
   "cell_type": "code",
   "execution_count": null,
   "metadata": {},
   "outputs": [],
   "source": []
  },
  {
   "cell_type": "code",
   "execution_count": null,
   "metadata": {},
   "outputs": [],
   "source": []
  },
  {
   "cell_type": "code",
   "execution_count": null,
   "metadata": {},
   "outputs": [],
   "source": []
  },
  {
   "cell_type": "code",
   "execution_count": null,
   "metadata": {},
   "outputs": [],
   "source": []
  },
  {
   "cell_type": "code",
   "execution_count": null,
   "metadata": {},
   "outputs": [],
   "source": []
  },
  {
   "cell_type": "code",
   "execution_count": null,
   "metadata": {},
   "outputs": [],
   "source": []
  },
  {
   "cell_type": "code",
   "execution_count": null,
   "metadata": {},
   "outputs": [],
   "source": []
  },
  {
   "cell_type": "code",
   "execution_count": null,
   "metadata": {},
   "outputs": [],
   "source": []
  },
  {
   "cell_type": "code",
   "execution_count": null,
   "metadata": {},
   "outputs": [],
   "source": []
  },
  {
   "cell_type": "code",
   "execution_count": null,
   "metadata": {},
   "outputs": [],
   "source": []
  },
  {
   "cell_type": "code",
   "execution_count": 88,
   "metadata": {},
   "outputs": [
    {
     "data": {
      "text/plain": [
       "1-element Array{Int64,1}:\n",
       " 27"
      ]
     },
     "execution_count": 88,
     "metadata": {},
     "output_type": "execute_result"
    }
   ],
   "source": [
    "idx_xy = findall(x -> x == tmp_srt_idx_t_xyz_y[lado_y][i],\n",
    "            tmp_srt_idx_t_xyz_x[lado_x])"
   ]
  },
  {
   "cell_type": "code",
   "execution_count": null,
   "metadata": {},
   "outputs": [],
   "source": [
    "y_md_bound = searchsortedlast(srt_y_t_xyz[nodes_indices[i][j]],\n",
    "    (y_min + cutoff * nodes_bounds[k][j]))\n",
    "z_md_bound = searchsortedlast(srt_z_t_xyz[nodes_indices[i][j]],\n",
    "    (z_min + cutoff * nodes_bounds[k][j]))"
   ]
  },
  {
   "cell_type": "code",
   "execution_count": 100,
   "metadata": {},
   "outputs": [
    {
     "data": {
      "text/plain": [
       "4-element Array{Array{Int64,1},1}:\n",
       " [11]                    \n",
       " [6, 5]                  \n",
       " [3, 3, 3, 2]            \n",
       " [2, 1, 2, 1, 2, 1, 1, 1]"
      ]
     },
     "execution_count": 100,
     "metadata": {},
     "output_type": "execute_result"
    }
   ],
   "source": [
    "lado_y = 1\n",
    "for i = 1:length(tmp_srt_idx_t_xyz_y[lado_y])\n",
    "    lado_x = 1\n",
    "    idx_xy = findall(x -> x == tmp_srt_idx_t_xyz_y[lado_y][i],\n",
    "            tmp_srt_idx_t_xyz_x[lado_x])\n",
    "    \n",
    "    lado_z = 1\n",
    "    if isempty(idx_xy)\n",
    "    # está en -x, -y, \n",
    "        idx_zy = findall(z -> z == tmp_srt_idx_t_xyz_y[lado_y][i],\n",
    "            tmp_srt_idx_t_xyz_z[lado_z])\n",
    "        \n",
    "        if isempty(idx_yz)\n",
    "        # está en -x, -y, -z\n",
    "            \n",
    "        else\n",
    "            \n",
    "        end\n",
    "    \n",
    "        \n",
    "    else\n",
    "        \n",
    "        if  srt_idx_t_xyz[x_lh_bound:x_rh_bound, 1][idx_xy] ==\n",
    "        srt_idx_t_xyz[y_lh_bound:y_rh_bound, 2][i]\n",
    "        \n",
    "            lado_z = 1\n",
    "                \n",
    "            idx_zy = searchsortedlast(srt_idx_t_xyz[z_lh_bound:z_rh_bound, 3],\n",
    "                srt_idx_t_xyz[y_lh_bound:y_rh_bound, 2][i])\n",
    "            if idx_zy != 0\n",
    "                if  srt_idx_t_xyz[z_lh_bound:z_rh_bound, 3][idx_zy] ==\n",
    "                srt_idx_t_xyz[y_lh_bound:y_rh_bound, 2][i]\n",
    "                \n",
    "                    push!(octant_0, i)\n",
    "                end\n",
    "            end\n",
    "        end\n",
    "    end\n",
    "end"
   ]
  }
 ],
 "metadata": {
  "kernelspec": {
   "display_name": "Julia 0.7.0",
   "language": "julia",
   "name": "julia-0.7"
  },
  "language_info": {
   "file_extension": ".jl",
   "mimetype": "application/julia",
   "name": "julia",
   "version": "0.7.0"
  }
 },
 "nbformat": 4,
 "nbformat_minor": 2
}
