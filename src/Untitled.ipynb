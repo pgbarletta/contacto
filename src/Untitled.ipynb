{
 "cells": [
  {
   "cell_type": "code",
   "execution_count": 3,
   "metadata": {},
   "outputs": [
    {
     "data": {
      "text/plain": [
       "1989"
      ]
     },
     "execution_count": 3,
     "metadata": {},
     "output_type": "execute_result"
    }
   ],
   "source": [
    "using Revise\n",
    "using Chemfiles\n",
    "using contacto\n",
    "using StaticArrays\n",
    "\n",
    "in_trj = Trajectory(\"/home/german/labo/contacto/aux/1mtn.pdb\")\n",
    "in_frm = read(in_trj)\n",
    "in_top = Topology(in_frm)\n",
    "coords = round.(positions(in_frm), digits = 3)\n",
    "natoms = size(coords)[2]"
   ]
  },
  {
   "cell_type": "code",
   "execution_count": 8,
   "metadata": {},
   "outputs": [
    {
     "data": {
      "text/plain": [
       "contacto.Voxel([-10.285, 26.147, -25.168], [-37.785 -37.785 … 17.215 17.215; -1.353 -1.353 … 53.647 53.647; -52.668 2.332 … -52.668 2.332], 27.5, 0, contacto.Voxel(#undef, #undef, 6.9146456276469e-310, 0, #undef, #undef), contacto.Voxel[Voxel(#undef, #undef, 6.91465e-310, 0, #undef, #undef), Voxel(#undef, #undef, 6.91465e-310, 0, #undef, #undef), Voxel(#undef, #undef, 6.91465e-310, 0, #undef, #undef), Voxel(#undef, #undef, 6.91465e-310, 0, #undef, #undef), Voxel(#undef, #undef, 6.91465e-310, 0, #undef, #undef), Voxel(#undef, #undef, 6.91465e-310, 0, #undef, #undef), Voxel(#undef, #undef, 6.91465e-310, 0, #undef, #undef), Voxel(#undef, #undef, 6.91465e-310, 0, #undef, #undef)])"
      ]
     },
     "execution_count": 8,
     "metadata": {},
     "output_type": "execute_result"
    }
   ],
   "source": [
    "cutoff = round(5., digits = 3)\n",
    "resolution = .1\n",
    "t_xyz = transpose(coords)\n",
    "\n",
    "srt_idx_t_xyz = hcat(sortperm(t_xyz[:, 1]), sortperm(t_xyz[:, 2]), sortperm(t_xyz[:, 3]));\n",
    "\n",
    "srt_x_t_xyz = t_xyz[srt_idx_t_xyz[:, 1], 1]\n",
    "srt_y_t_xyz = t_xyz[srt_idx_t_xyz[:, 2], 2]\n",
    "srt_z_t_xyz = t_xyz[srt_idx_t_xyz[:, 3], 3]\n",
    "\n",
    "\n",
    "x_min = srt_x_t_xyz[1]\n",
    "x_max = srt_x_t_xyz[end]\n",
    "y_min = srt_y_t_xyz[1]\n",
    "y_max = srt_y_t_xyz[end]\n",
    "z_min = srt_z_t_xyz[1]\n",
    "z_max = srt_z_t_xyz[end]\n",
    "\n",
    "espacio = [ x_max - x_min ; y_max - y_min ; z_max - z_min ]\n",
    "\n",
    "ctro = round.([ x_min + espacio[1]/2, y_min + espacio[2]/2,  z_min + espacio[3]/2 ], digits = 3)\n",
    "\n",
    "ncells = convert(Int64, ceil(maximum(espacio) / cutoff))\n",
    "\n",
    "dim = ncells * cutoff\n",
    "\n",
    "half_dim = round(dim / 2, digits = 3)\n",
    "\n",
    "sa = contacto.Voxel(ctro, half_dim, 0)"
   ]
  },
  {
   "cell_type": "code",
   "execution_count": 9,
   "metadata": {},
   "outputs": [],
   "source": [
    "x_cell_list = Array{Array{Int64, 1}, 1}(undef, ncells)\n",
    "y_cell_list = Array{Array{Int64, 1}, 1}(undef, ncells)\n",
    "z_cell_list = Array{Array{Int64, 1}, 1}(undef, ncells);"
   ]
  },
  {
   "cell_type": "code",
   "execution_count": 10,
   "metadata": {},
   "outputs": [
    {
     "data": {
      "text/plain": [
       "20-element Array{Int64,1}:\n",
       " 6\n",
       " 5\n",
       " 3\n",
       " 3\n",
       " 3\n",
       " 2\n",
       " 2\n",
       " 1\n",
       " 2\n",
       " 1\n",
       " 2\n",
       " 1\n",
       " 1\n",
       " 1\n",
       " 1\n",
       " 1\n",
       " 1\n",
       " 1\n",
       " 1\n",
       " 1"
      ]
     },
     "execution_count": 10,
     "metadata": {},
     "output_type": "execute_result"
    }
   ],
   "source": [
    "nlevels = convert(Int64, floor(log2(ncells)))\n",
    "nnodes = sum([ 2^x for x in 1:nlevels ]) ; resto = (ncells - 2^nlevels) * 2 ; nnodes += resto\n",
    "nodes = Array{Int64}(undef, nnodes+1);\n",
    "\n",
    "tmp_cell_list = Array{Array{Int64, 1}, 1}(undef, nnodes)\n",
    "nodes = Array{Int64, 1}(undef, nnodes+1)\n",
    "nodes = [ncells]\n",
    "\n",
    "let i = 1\n",
    "for i = 1:nnodes\n",
    "    if nodes[i] != 1\n",
    "        lh_node = convert(Int64, ceil(nodes[i] / 2))\n",
    "        rh_node = nodes[i] - lh_node\n",
    "        \n",
    "        push!(nodes, lh_node)\n",
    "        push!(nodes, rh_node)\n",
    "    end\n",
    "end\n",
    "    deleteat!(nodes, 1)\n",
    "end"
   ]
  },
  {
   "cell_type": "code",
   "execution_count": 44,
   "metadata": {},
   "outputs": [
    {
     "data": {
      "text/plain": [
       "3-element Array{Int64,1}:\n",
       " 11\n",
       "  6\n",
       "  5"
      ]
     },
     "execution_count": 44,
     "metadata": {},
     "output_type": "execute_result"
    }
   ],
   "source": [
    "nlevels = convert(Int64, floor(log2(ncells)))\n",
    "nnodes = sum([ 2^x for x in 1:nlevels ]) ; resto = (ncells - 2^nlevels) * 2 ; nnodes += resto\n",
    "nodes = Array{Int64}(undef, nnodes+1);\n",
    "\n",
    "tmp_cell_list = Array{Array{Int64, 1}, 1}(undef, nnodes)\n",
    "nodes = Array{Int64, 1}(undef, nnodes+1)\n",
    "nodes = [ncells]\n",
    "x_lh_bound = 1 ; y_lh_bound = 1 ; z_lh_bound = 1\n",
    "x_md_bound = natoms ; y_md_bound = natoms ; z_md_bound = natoms\n",
    "x_rh_bound = natoms ; y_rh_bound = natoms ; z_rh_bound = natoms\n",
    "\n",
    "i = 1\n",
    "\n",
    "lh_node = convert(Int64, ceil(nodes[i] / 2))\n",
    "rh_node = nodes[i] - lh_node\n",
    "        \n",
    "push!(nodes, lh_node)\n",
    "push!(nodes, rh_node)"
   ]
  },
  {
   "cell_type": "code",
   "execution_count": 46,
   "metadata": {},
   "outputs": [
    {
     "data": {
      "text/plain": [
       "1901"
      ]
     },
     "execution_count": 46,
     "metadata": {},
     "output_type": "execute_result"
    }
   ],
   "source": [
    "x_md_bound = searchsortedlast(srt_x_t_xyz[x_lh_bound:x_md_bound],\n",
    "    (x_min + cutoff * lh_node))\n",
    "y_md_bound = searchsortedlast(srt_y_t_xyz[y_lh_bound:y_md_bound],\n",
    "    (y_min + cutoff * lh_node))\n",
    "z_md_bound = searchsortedlast(srt_z_t_xyz[z_lh_bound:z_md_bound],\n",
    "    (z_min + cutoff * lh_node))"
   ]
  },
  {
   "cell_type": "code",
   "execution_count": 47,
   "metadata": {},
   "outputs": [
    {
     "data": {
      "text/plain": [
       "745"
      ]
     },
     "execution_count": 47,
     "metadata": {},
     "output_type": "execute_result"
    }
   ],
   "source": [
    "x_md_bound"
   ]
  },
  {
   "cell_type": "code",
   "execution_count": 22,
   "metadata": {},
   "outputs": [
    {
     "data": {
      "text/plain": [
       "1901-element Array{Int64,1}:\n",
       " 1731\n",
       " 1729\n",
       " 1730\n",
       " 1728\n",
       " 1726\n",
       " 1727\n",
       " 1776\n",
       " 1725\n",
       " 1778\n",
       " 1723\n",
       " 1713\n",
       " 1774\n",
       " 1773\n",
       "    ⋮\n",
       "  953\n",
       "   72\n",
       "   73\n",
       "  834\n",
       "  950\n",
       "  872\n",
       "  859\n",
       "  973\n",
       "  860\n",
       "  969\n",
       "  933\n",
       "  835"
      ]
     },
     "execution_count": 22,
     "metadata": {},
     "output_type": "execute_result"
    }
   ],
   "source": [
    "srt_idx_t_xyz[x_lh_bound:x_rh_bound, 1]\n",
    "srt_idx_t_xyz[y_lh_bound:y_rh_bound, 2]\n",
    "srt_idx_t_xyz[z_lh_bound:z_rh_bound, 3]"
   ]
  },
  {
   "cell_type": "code",
   "execution_count": 19,
   "metadata": {},
   "outputs": [
    {
     "data": {
      "text/plain": [
       "1:745"
      ]
     },
     "execution_count": 19,
     "metadata": {},
     "output_type": "execute_result"
    }
   ],
   "source": [
    "x_lh_bound:x_rh_bound"
   ]
  },
  {
   "cell_type": "code",
   "execution_count": 34,
   "metadata": {},
   "outputs": [
    {
     "data": {
      "text/plain": [
       "745"
      ]
     },
     "execution_count": 34,
     "metadata": {},
     "output_type": "execute_result"
    }
   ],
   "source": []
  },
  {
   "cell_type": "code",
   "execution_count": 46,
   "metadata": {},
   "outputs": [
    {
     "data": {
      "text/plain": [
       "745-element Array{Int64,1}:\n",
       "  241\n",
       "  242\n",
       "  240\n",
       "  238\n",
       "  236\n",
       "  237\n",
       "  239\n",
       "  234\n",
       "  235\n",
       "  233\n",
       "  232\n",
       "  231\n",
       "  228\n",
       "    ⋮\n",
       " 1775\n",
       " 1749\n",
       " 1037\n",
       " 1033\n",
       " 1748\n",
       "  491\n",
       " 1800\n",
       " 1772\n",
       "  941\n",
       " 1798\n",
       " 1843\n",
       "  959"
      ]
     },
     "execution_count": 46,
     "metadata": {},
     "output_type": "execute_result"
    }
   ],
   "source": [
    "idx_t_xyz[x_lh_bound:x_rh_bound, 1]"
   ]
  },
  {
   "cell_type": "code",
   "execution_count": 47,
   "metadata": {},
   "outputs": [
    {
     "data": {
      "text/plain": [
       "381"
      ]
     },
     "execution_count": 47,
     "metadata": {},
     "output_type": "execute_result"
    }
   ],
   "source": [
    "i = 1\n",
    "searchsortedlast(idx_t_xyz[x_lh_bound:x_rh_bound, 1],\n",
    "    idx_t_xyz[y_lh_bound:y_rh_bound, 2][i])"
   ]
  },
  {
   "cell_type": "code",
   "execution_count": 12,
   "metadata": {},
   "outputs": [
    {
     "data": {
      "text/plain": [
       "1:1989"
      ]
     },
     "execution_count": 12,
     "metadata": {},
     "output_type": "execute_result"
    }
   ],
   "source": [
    "x_lh_bound:x_rh_bound"
   ]
  },
  {
   "cell_type": "code",
   "execution_count": 51,
   "metadata": {},
   "outputs": [
    {
     "data": {
      "text/plain": [
       "192"
      ]
     },
     "execution_count": 51,
     "metadata": {},
     "output_type": "execute_result"
    }
   ],
   "source": [
    "idx_t_xyz[y_lh_bound:y_rh_bound, 2][i]"
   ]
  },
  {
   "cell_type": "code",
   "execution_count": 54,
   "metadata": {},
   "outputs": [
    {
     "data": {
      "text/plain": [
       "13-element Array{Int64,1}:\n",
       "  429\n",
       " 1085\n",
       "  316\n",
       "   79\n",
       "  419\n",
       "  435\n",
       " 1202\n",
       "   86\n",
       "   84\n",
       "  395\n",
       " 1173\n",
       "   89\n",
       " 1082"
      ]
     },
     "execution_count": 54,
     "metadata": {},
     "output_type": "execute_result"
    }
   ],
   "source": [
    "idx_t_xyz[x_lh_bound:x_rh_bound, 1][370:382]"
   ]
  },
  {
   "cell_type": "code",
   "execution_count": 48,
   "metadata": {},
   "outputs": [
    {
     "data": {
      "text/plain": [
       "192"
      ]
     },
     "execution_count": 48,
     "metadata": {},
     "output_type": "execute_result"
    }
   ],
   "source": [
    "idx_t_xyz[y_lh_bound:y_rh_bound, 2][i]"
   ]
  },
  {
   "cell_type": "code",
   "execution_count": 38,
   "metadata": {},
   "outputs": [
    {
     "data": {
      "text/plain": [
       "745-element Array{Int64,1}:\n",
       "  241\n",
       "  242\n",
       "  240\n",
       "  238\n",
       "  236\n",
       "  237\n",
       "  239\n",
       "  234\n",
       "  235\n",
       "  233\n",
       "  232\n",
       "  231\n",
       "  228\n",
       "    ⋮\n",
       " 1775\n",
       " 1749\n",
       " 1037\n",
       " 1033\n",
       " 1748\n",
       "  491\n",
       " 1800\n",
       " 1772\n",
       "  941\n",
       " 1798\n",
       " 1843\n",
       "  959"
      ]
     },
     "execution_count": 38,
     "metadata": {},
     "output_type": "execute_result"
    }
   ],
   "source": [
    "idx_t_xyz[x_lh_bound:x_rh_bound, 1]\n",
    "idx_t_xyz[y_lh_bound:y_rh_bound, 2]\n",
    "idx_t_xyz[z_lh_bound:z_rh_bound, 3]"
   ]
  },
  {
   "cell_type": "code",
   "execution_count": 39,
   "metadata": {},
   "outputs": [],
   "source": [
    "octant_0 = Array{Int64}(undef)\n",
    "let i = 1; for i = 1:length(srt_idx_t_xyz[y_lh_bound:y_rh_bound, 2])\n",
    "    \n",
    "    idx_xy = searchsortedlast(srt_idx_t_xyz[x_lh_bound:x_rh_bound, 1],\n",
    "    srt_idx_t_xyz[y_lh_bound:y_rh_bound, 2][i])\n",
    "    \n",
    "    if idx_xy != 0\n",
    "        if  srt_idx_t_xyz[x_lh_bound:x_rh_bound, 1][idx_xy] ==\n",
    "        srt_idx_t_xyz[y_lh_bound:y_rh_bound, 2][i]\n",
    "        \n",
    "            idx_zy = searchsortedlast(srt_idx_t_xyz[z_lh_bound:z_rh_bound, 3],\n",
    "                srt_idx_t_xyz[y_lh_bound:y_rh_bound, 2][i])\n",
    "            if idx_zy != 0\n",
    "                if  srt_idx_t_xyz[z_lh_bound:z_rh_bound, 3][idx_zy] ==\n",
    "                srt_idx_t_xyz[y_lh_bound:y_rh_bound, 2][i]\n",
    "                \n",
    "                    push!(octant_0, i)\n",
    "                end\n",
    "            end\n",
    "        end\n",
    "    end\n",
    "end \n",
    "end"
   ]
  },
  {
   "cell_type": "code",
   "execution_count": 40,
   "metadata": {},
   "outputs": [
    {
     "data": {
      "text/plain": [
       "0-dimensional Array{Int64,0}:\n",
       "139952585703424"
      ]
     },
     "execution_count": 40,
     "metadata": {},
     "output_type": "execute_result"
    }
   ],
   "source": [
    "octant_0"
   ]
  },
  {
   "cell_type": "code",
   "execution_count": 48,
   "metadata": {},
   "outputs": [],
   "source": [
    "lh_srt_idx_t_xyz_x = srt_idx_t_xyz[x_lh_bound:x_md_bound-1, 1]\n",
    "lh_srt_idx_t_xyz_y = srt_idx_t_xyz[y_lh_bound:y_md_bound-1, 2]\n",
    "lh_srt_idx_t_xyz_z = srt_idx_t_xyz[z_lh_bound:z_md_bound-1, 3]\n",
    "\n",
    "rh_srt_idx_t_xyz_x = srt_idx_t_xyz[x_md_bound:x_rh_bound, 1]\n",
    "rh_srt_idx_t_xyz_y = srt_idx_t_xyz[y_md_bound:y_rh_bound, 2]\n",
    "rh_srt_idx_t_xyz_z = srt_idx_t_xyz[z_md_bound:z_rh_bound, 3];"
   ]
  },
  {
   "cell_type": "code",
   "execution_count": 50,
   "metadata": {},
   "outputs": [
    {
     "data": {
      "text/plain": [
       "1245-element Array{Int64,1}:\n",
       "  959\n",
       "  494\n",
       " 1032\n",
       " 1708\n",
       "  509\n",
       " 1842\n",
       " 1683\n",
       " 1036\n",
       " 1679\n",
       " 1007\n",
       " 1838\n",
       "  514\n",
       " 1709\n",
       "    ⋮\n",
       "  766\n",
       "  717\n",
       " 1444\n",
       "  705\n",
       " 1443\n",
       "  719\n",
       "  716\n",
       "  718\n",
       "  706\n",
       "  708\n",
       "  710\n",
       "  709"
      ]
     },
     "execution_count": 50,
     "metadata": {},
     "output_type": "execute_result"
    }
   ],
   "source": [
    "lh_srt_idx_t_xyz_x"
   ]
  },
  {
   "cell_type": "code",
   "execution_count": 29,
   "metadata": {},
   "outputs": [
    {
     "data": {
      "text/plain": [
       "192"
      ]
     },
     "execution_count": 29,
     "metadata": {},
     "output_type": "execute_result"
    }
   ],
   "source": [
    "srt_idx_t_xyz[y_lh_bound:y_rh_bound, 2][i]"
   ]
  }
 ],
 "metadata": {
  "kernelspec": {
   "display_name": "Julia 0.7.0",
   "language": "julia",
   "name": "julia-0.7"
  },
  "language_info": {
   "file_extension": ".jl",
   "mimetype": "application/julia",
   "name": "julia",
   "version": "0.7.0"
  }
 },
 "nbformat": 4,
 "nbformat_minor": 2
}
