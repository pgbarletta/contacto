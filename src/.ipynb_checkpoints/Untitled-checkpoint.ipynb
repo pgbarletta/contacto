{
 "cells": [
  {
   "cell_type": "code",
   "execution_count": 1,
   "metadata": {},
   "outputs": [
    {
     "name": "stderr",
     "output_type": "stream",
     "text": [
      "┌ Info: Recompiling stale cache file /home/german/.julia/compiled/v0.7/contacto.ji for contacto [top-level]\n",
      "└ @ Base loading.jl:1185\n",
      "┌ Warning: `finalizer(o, f::Function)` is deprecated, use `finalizer(f, o)` instead.\n",
      "│   caller = Type at Chemfiles.jl:35 [inlined]\n",
      "└ @ Core /home/german/.julia/packages/Chemfiles/MzvVI/src/Chemfiles.jl:35\n",
      "┌ Warning: `assert` is deprecated, use `@assert` instead.\n",
      "│   caller = read(::Trajectory) at Trajectory.jl:36\n",
      "└ @ Chemfiles /home/german/.julia/packages/Chemfiles/MzvVI/src/Trajectory.jl:36\n",
      "┌ Warning: `finalizer(o, f::Function)` is deprecated, use `finalizer(f, o)` instead.\n",
      "│   caller = Type at Chemfiles.jl:108 [inlined]\n",
      "└ @ Core /home/german/.julia/packages/Chemfiles/MzvVI/src/Chemfiles.jl:108\n",
      "┌ Warning: `assert` is deprecated, use `@assert` instead.\n",
      "│   caller = ip:0x0\n",
      "└ @ Core :-1\n",
      "┌ Warning: `finalizer(o, f::Function)` is deprecated, use `finalizer(f, o)` instead.\n",
      "│   caller = Type at Chemfiles.jl:51 [inlined]\n",
      "└ @ Core /home/german/.julia/packages/Chemfiles/MzvVI/src/Chemfiles.jl:51\n",
      "┌ Warning: `unsafe_wrap(T, pointer, dims, own)` is deprecated, use `unsafe_wrap(T, pointer, dims, own=own)` instead.\n",
      "│   caller = positions(::Frame) at Frame.jl:56\n",
      "└ @ Chemfiles /home/german/.julia/packages/Chemfiles/MzvVI/src/Frame.jl:56\n"
     ]
    },
    {
     "data": {
      "text/plain": [
       "1989"
      ]
     },
     "execution_count": 1,
     "metadata": {},
     "output_type": "execute_result"
    }
   ],
   "source": [
    "using Revise\n",
    "using Chemfiles\n",
    "using contacto\n",
    "using StaticArrays\n",
    "\n",
    "in_trj = Trajectory(\"/home/german/labo/contacto/aux/1mtn.pdb\")\n",
    "in_frm = read(in_trj)\n",
    "in_top = Topology(in_frm)\n",
    "coords = positions(in_frm)\n",
    "natoms = size(coords)[2]"
   ]
  },
  {
   "cell_type": "code",
   "execution_count": 134,
   "metadata": {},
   "outputs": [
    {
     "data": {
      "text/plain": [
       "contacto.Voxel([-10.285, 26.147, -25.168], [-37.785 -37.785 … 17.215 17.215; -1.353 -1.353 … 53.647 53.647; -52.668 2.332 … -52.668 2.332], 27.5, 0, contacto.Voxel(#undef, #undef, 0.0, 0, #undef, #undef), contacto.Voxel[Voxel(#undef, #undef, 0.0, 0, #undef, #undef), Voxel(#undef, #undef, 0.0, 0, #undef, #undef), Voxel(#undef, #undef, 0.0, 0, #undef, #undef), Voxel(#undef, #undef, 0.0, 0, #undef, #undef), Voxel(#undef, #undef, 0.0, 0, #undef, #undef), Voxel(#undef, #undef, 0.0, 0, #undef, #undef), Voxel(#undef, #undef, 0.0, 0, #undef, #undef), Voxel(#undef, #undef, 0.0, 0, #undef, #undef)])"
      ]
     },
     "execution_count": 134,
     "metadata": {},
     "output_type": "execute_result"
    }
   ],
   "source": [
    "cutoff = round(5., digits = 3)\n",
    "resolution = .1\n",
    "t_xyz = transpose(coords)\n",
    "x_min = minimum(t_xyz[:, 1])\n",
    "x_max = maximum(t_xyz[:, 1])\n",
    "y_min = minimum(t_xyz[:, 2])\n",
    "y_max = maximum(t_xyz[:, 2])\n",
    "z_min = minimum(t_xyz[:, 3])\n",
    "z_max = maximum(t_xyz[:, 3])\n",
    "\n",
    "espacio = [ x_max - x_min ; y_max - y_min ; z_max - z_min ]\n",
    "\n",
    "ctro = round.([ x_min + espacio[1]/2, y_min + espacio[2]/2,  z_min + espacio[3]/2 ], digits = 3)\n",
    "\n",
    "ncells = convert(Int64, ceil(maximum(espacio) / cutoff))\n",
    "\n",
    "dim = ncells * cutoff\n",
    "\n",
    "half_dim = round(dim / 2, digits = 3)\n",
    "\n",
    "sa = contacto.Voxel(ctro, half_dim, 0)"
   ]
  },
  {
   "cell_type": "code",
   "execution_count": 130,
   "metadata": {},
   "outputs": [
    {
     "data": {
      "text/plain": [
       "55.0"
      ]
     },
     "execution_count": 130,
     "metadata": {},
     "output_type": "execute_result"
    }
   ],
   "source": [
    "sa.vertices[1, 1]\n",
    "sa.vertices[1, 8]\n",
    "\n",
    "sa.vertices[2, 1]\n",
    "sa.vertices[2, 8]\n",
    "\n",
    "sa.vertices[3, 1]\n",
    "sa.vertices[3, 8]"
   ]
  },
  {
   "cell_type": "code",
   "execution_count": 158,
   "metadata": {},
   "outputs": [
    {
     "data": {
      "text/plain": [
       "11-element Array{Array{Int64,1},1}:\n",
       " #undef\n",
       " #undef\n",
       " #undef\n",
       " #undef\n",
       " #undef\n",
       " #undef\n",
       " #undef\n",
       " #undef\n",
       " #undef\n",
       " #undef\n",
       " #undef"
      ]
     },
     "execution_count": 158,
     "metadata": {},
     "output_type": "execute_result"
    }
   ],
   "source": [
    "x_cell_list = Array{Array{Int64, 1}, 1}(undef, ncells)\n",
    "y_cell_list = Array{Array{Int64, 1}, 1}(undef, ncells)\n",
    "z_cell_list = Array{Array{Int64, 1}, 1}(undef, ncells)\n"
   ]
  },
  {
   "cell_type": "code",
   "execution_count": 225,
   "metadata": {},
   "outputs": [
    {
     "data": {
      "text/plain": [
       "11"
      ]
     },
     "execution_count": 225,
     "metadata": {},
     "output_type": "execute_result"
    }
   ],
   "source": [
    "lh_node = ncells\n",
    "rh_node = ncells\n",
    "nodes[1] = ncells"
   ]
  },
  {
   "cell_type": "code",
   "execution_count": 222,
   "metadata": {},
   "outputs": [
    {
     "name": "stderr",
     "output_type": "stream",
     "text": [
      "┌ Warning: Deprecated syntax `implicit assignment to global variable `cada``.\n",
      "│ Use `global cada` instead.\n",
      "└ @ nothing none:0\n",
      "┌ Warning: Loop variable `cada` around In[222]:8 overwrites a variable in an enclosing scope. In the future the variable will be local to the loop instead.\n",
      "└ @ nothing In[222]:8\n"
     ]
    },
    {
     "ename": "BoundsError",
     "evalue": "BoundsError: attempt to access 21-element Array{Int64,1} at index [32]",
     "output_type": "error",
     "traceback": [
      "BoundsError: attempt to access 21-element Array{Int64,1} at index [32]",
      "",
      "Stacktrace:",
      " [1] setindex!(::Array{Int64,1}, ::Int64, ::Int64) at ./array.jl:769",
      " [2] top-level scope at ./In[222]:9"
     ]
    }
   ],
   "source": [
    "j = 1\n",
    "k = 1\n",
    "cada = nnodes\n",
    "\n",
    "for cada in nodes\n",
    "    nodes[j+1] = convert(Int64, ceil(cada / 2))\n",
    "    nodes[j+2] = cada - nodes[j+1]\n",
    "     \n",
    "    global j += 2^k\n",
    "    global k += 1\n",
    "end"
   ]
  },
  {
   "cell_type": "code",
   "execution_count": 231,
   "metadata": {},
   "outputs": [],
   "source": [
    "for j = 1:nnodes\n",
    "    while nodes[j] != 1\n",
    "        global nodes[j+1] = convert(Int64, ceil(nodes[j] / 2))\n",
    "        j += 1\n",
    "    end\n",
    "end"
   ]
  },
  {
   "cell_type": "code",
   "execution_count": null,
   "metadata": {},
   "outputs": [],
   "source": []
  },
  {
   "cell_type": "code",
   "execution_count": 236,
   "metadata": {},
   "outputs": [
    {
     "data": {
      "text/plain": [
       "rec (generic function with 1 method)"
      ]
     },
     "execution_count": 236,
     "metadata": {},
     "output_type": "execute_result"
    }
   ],
   "source": [
    "function rec(i::Int64)\n",
    "    convert(Int64, ceil(i / 2))\n",
    "end"
   ]
  },
  {
   "cell_type": "code",
   "execution_count": 259,
   "metadata": {},
   "outputs": [
    {
     "data": {
      "text/plain": [
       "3"
      ]
     },
     "execution_count": 259,
     "metadata": {},
     "output_type": "execute_result"
    }
   ],
   "source": []
  },
  {
   "cell_type": "code",
   "execution_count": 262,
   "metadata": {},
   "outputs": [
    {
     "name": "stderr",
     "output_type": "stream",
     "text": [
      "┌ Warning: Deprecated syntax `implicit assignment to global variable `j``.\n",
      "│ Use `global j` instead.\n",
      "└ @ nothing none:0\n",
      "┌ Warning: Loop variable `j` around In[262]:2 overwrites a variable in an enclosing scope. In the future the variable will be local to the loop instead.\n",
      "└ @ nothing In[262]:2\n"
     ]
    }
   ],
   "source": [
    "veco = [ncells]\n",
    "for j = 1:nlevels\n",
    "    m = veco[j]\n",
    "    while m != 1\n",
    "        m = rec(m)\n",
    "        push!(veco, m)\n",
    "    end\n",
    "    push!(veco, 1)\n",
    "end"
   ]
  },
  {
   "cell_type": "code",
   "execution_count": 269,
   "metadata": {},
   "outputs": [],
   "source": [
    "nodes = Array{Int64}(undef, nnodes+1);"
   ]
  },
  {
   "cell_type": "code",
   "execution_count": 213,
   "metadata": {},
   "outputs": [
    {
     "data": {
      "text/plain": [
       "1274-element Array{Int64,1}:\n",
       "    1\n",
       "    2\n",
       "    3\n",
       "    4\n",
       "    5\n",
       "    6\n",
       "    7\n",
       "    8\n",
       "    9\n",
       "   10\n",
       "   11\n",
       "   12\n",
       "   13\n",
       "    ⋮\n",
       " 1977\n",
       " 1978\n",
       " 1979\n",
       " 1980\n",
       " 1981\n",
       " 1982\n",
       " 1983\n",
       " 1984\n",
       " 1985\n",
       " 1986\n",
       " 1987\n",
       " 1989"
      ]
     },
     "execution_count": 213,
     "metadata": {},
     "output_type": "execute_result"
    }
   ],
   "source": [
    "nlevels = convert(Int64, floor(log2(ncells)))\n",
    "nnodes = sum([ 2^x for x in 1:nlevels ]) ; resto = (ncells - 2^nlevels) * 2 ; nnodes += resto\n",
    "\n",
    "i = 1\n",
    "\n",
    "tmp_cell_list = Array{Array{Int64, 1}, 1}(undef, nnodes)\n",
    "nodes = Array{Int64, 1}(undef, nnodes+1)\n",
    "\n",
    "nodes = ncells\n",
    "lh_node = ncells\n",
    "rh_node = ncells\n",
    "while lh_node != 1 & rh_node != 1\n",
    "    lh_node = convert(Int64, ceil(lh_node / 2))\n",
    "    rh_node = paso - lh_node\n",
    "    \n",
    "end\n",
    "\n",
    "i_edge = sa.vertices[i, 1] + cutoff * edge\n",
    "\n",
    "\n",
    "lh_idces = findall(!iszero, t_xyz[:, i] .< i_edge)\n",
    "rh_idces = findall(iszero, t_xyz[:, i] .< i_edge)"
   ]
  },
  {
   "cell_type": "code",
   "execution_count": 285,
   "metadata": {},
   "outputs": [
    {
     "data": {
      "text/plain": [
       "reca (generic function with 1 method)"
      ]
     },
     "execution_count": 285,
     "metadata": {},
     "output_type": "execute_result"
    }
   ],
   "source": []
  },
  {
   "cell_type": "code",
   "execution_count": 295,
   "metadata": {},
   "outputs": [
    {
     "name": "stderr",
     "output_type": "stream",
     "text": [
      "┌ Warning: Deprecated syntax `implicit assignment to global variable `i``.\n",
      "│ Use `global i` instead.\n",
      "└ @ nothing none:0\n",
      "┌ Warning: Loop variable `i` around In[295]:9 overwrites a variable in an enclosing scope. In the future the variable will be local to the loop instead.\n",
      "└ @ nothing In[295]:9\n"
     ]
    }
   ],
   "source": [
    "function reca(in_vec, in_val)\n",
    "    lh_node = convert(Int64, ceil(in_val / 2))\n",
    "    rh_node = in_val - lh_node\n",
    "    push!(in_vec, lh_node)\n",
    "    push!(in_vec, rh_node)\n",
    "end\n",
    "\n",
    "nodes = [ncells]\n",
    "for i = 1:nnodes\n",
    "    if nodes[i] != 1\n",
    "        reca(nodes, nodes[i])\n",
    "    end\n",
    "end"
   ]
  },
  {
   "cell_type": "code",
   "execution_count": 296,
   "metadata": {},
   "outputs": [
    {
     "data": {
      "text/plain": [
       "21-element Array{Int64,1}:\n",
       " 11\n",
       "  6\n",
       "  5\n",
       "  3\n",
       "  3\n",
       "  3\n",
       "  2\n",
       "  2\n",
       "  1\n",
       "  2\n",
       "  1\n",
       "  2\n",
       "  1\n",
       "  1\n",
       "  1\n",
       "  1\n",
       "  1\n",
       "  1\n",
       "  1\n",
       "  1\n",
       "  1"
      ]
     },
     "execution_count": 296,
     "metadata": {},
     "output_type": "execute_result"
    }
   ],
   "source": [
    "nodes"
   ]
  },
  {
   "cell_type": "code",
   "execution_count": 289,
   "metadata": {},
   "outputs": [
    {
     "data": {
      "text/plain": [
       "5-element Array{Int64,1}:\n",
       " 11\n",
       "  6\n",
       "  5\n",
       "  3\n",
       "  2"
      ]
     },
     "execution_count": 289,
     "metadata": {},
     "output_type": "execute_result"
    }
   ],
   "source": [
    "reca(in_vec, in_vec[end])"
   ]
  },
  {
   "cell_type": "code",
   "execution_count": 290,
   "metadata": {},
   "outputs": [
    {
     "data": {
      "text/plain": [
       "7-element Array{Int64,1}:\n",
       " 11\n",
       "  6\n",
       "  5\n",
       "  3\n",
       "  2\n",
       "  1\n",
       "  1"
      ]
     },
     "execution_count": 290,
     "metadata": {},
     "output_type": "execute_result"
    }
   ],
   "source": [
    "reca(in_vec, in_vec[end])"
   ]
  },
  {
   "cell_type": "code",
   "execution_count": null,
   "metadata": {},
   "outputs": [],
   "source": []
  },
  {
   "cell_type": "code",
   "execution_count": 119,
   "metadata": {},
   "outputs": [
    {
     "data": {
      "text/plain": [
       "3×8 MArray{Tuple{3,8},Float64,2,24}:\n",
       " -37.785  -37.785  -37.785  -37.785   17.215  17.215   17.215  17.215\n",
       "  -1.353   -1.353   53.647   53.647   -1.353  -1.353   53.647  53.647\n",
       " -52.668    2.332  -52.668    2.332  -52.668   2.332  -52.668   2.332"
      ]
     },
     "execution_count": 119,
     "metadata": {},
     "output_type": "execute_result"
    }
   ],
   "source": [
    "sa.vertices"
   ]
  },
  {
   "cell_type": "code",
   "execution_count": null,
   "metadata": {},
   "outputs": [],
   "source": []
  },
  {
   "cell_type": "code",
   "execution_count": null,
   "metadata": {},
   "outputs": [],
   "source": [
    "mutable struct OctTree\n",
    "    data::Array{Voxel, 1}\n",
    "    \n",
    "    function OctTree(coords::Array{Float64, 2})\n",
    "        if size(xyz)[1] != 3\n",
    "            error(\"Input coordiantes should be 3xN, where N is the number of atoms.\")\n",
    "        end\n",
    "        \n",
    "        t_xyz = transpose(coords)\n",
    "        x_min = minimum(t_xyz[:, 1])\n",
    "        x_max = maximum(t_xyz[:, 1])\n",
    "        y_min = minimum(t_xyz[:, 2])\n",
    "        y_max = maximum(t_xyz[:, 2])\n",
    "        z_min = minimum(t_xyz[:, 3])\n",
    "        z_max = maximum(t_xyz[:, 3])\n",
    "\n",
    "        ancho = x_max - x_min\n",
    "        largo = y_max - y_min\n",
    "        espesor = z_max - z_min\n",
    "        ctro = [ x_min + ancho/2, y_min + largo/2,  z_min + espesor/2 ]\n",
    "        dim = maximum([ancho ; largo ; espesor])\n",
    "        \n",
    "        Voxel()\n",
    "    end\n",
    "end"
   ]
  }
 ],
 "metadata": {
  "kernelspec": {
   "display_name": "Julia 0.7.0",
   "language": "julia",
   "name": "julia-0.7"
  },
  "language_info": {
   "file_extension": ".jl",
   "mimetype": "application/julia",
   "name": "julia",
   "version": "0.7.0"
  }
 },
 "nbformat": 4,
 "nbformat_minor": 2
}
