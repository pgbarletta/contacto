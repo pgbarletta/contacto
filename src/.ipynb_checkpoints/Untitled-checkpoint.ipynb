{
 "cells": [
  {
   "cell_type": "code",
   "execution_count": 1,
   "metadata": {},
   "outputs": [
    {
     "name": "stderr",
     "output_type": "stream",
     "text": [
      "┌ Info: Recompiling stale cache file /home/german/.julia/compiled/v0.7/contacto.ji for contacto [top-level]\n",
      "└ @ Base loading.jl:1185\n",
      "┌ Warning: `finalizer(o, f::Function)` is deprecated, use `finalizer(f, o)` instead.\n",
      "│   caller = Type at Chemfiles.jl:35 [inlined]\n",
      "└ @ Core /home/german/.julia/packages/Chemfiles/MzvVI/src/Chemfiles.jl:35\n",
      "┌ Warning: `assert` is deprecated, use `@assert` instead.\n",
      "│   caller = read(::Trajectory) at Trajectory.jl:36\n",
      "└ @ Chemfiles /home/german/.julia/packages/Chemfiles/MzvVI/src/Trajectory.jl:36\n",
      "┌ Warning: `finalizer(o, f::Function)` is deprecated, use `finalizer(f, o)` instead.\n",
      "│   caller = Type at Chemfiles.jl:108 [inlined]\n",
      "└ @ Core /home/german/.julia/packages/Chemfiles/MzvVI/src/Chemfiles.jl:108\n",
      "┌ Warning: `assert` is deprecated, use `@assert` instead.\n",
      "│   caller = ip:0x0\n",
      "└ @ Core :-1\n",
      "┌ Warning: `finalizer(o, f::Function)` is deprecated, use `finalizer(f, o)` instead.\n",
      "│   caller = Type at Chemfiles.jl:51 [inlined]\n",
      "└ @ Core /home/german/.julia/packages/Chemfiles/MzvVI/src/Chemfiles.jl:51\n",
      "┌ Warning: `unsafe_wrap(T, pointer, dims, own)` is deprecated, use `unsafe_wrap(T, pointer, dims, own=own)` instead.\n",
      "│   caller = positions(::Frame) at Frame.jl:56\n",
      "└ @ Chemfiles /home/german/.julia/packages/Chemfiles/MzvVI/src/Frame.jl:56\n"
     ]
    },
    {
     "data": {
      "text/plain": [
       "3×1989 Array{Float64,2}:\n",
       "   1.409   -0.242   -0.265   -1.646  …   11.327   10.595   -7.915   -7.485\n",
       "  30.574   31.101   31.706   31.971      34.457   34.991   21.165   22.235\n",
       " -22.188  -21.098  -19.899  -19.437     -33.102  -35.104  -25.896  -26.269"
      ]
     },
     "execution_count": 1,
     "metadata": {},
     "output_type": "execute_result"
    }
   ],
   "source": [
    "using Revise\n",
    "using Chemfiles\n",
    "using contacto\n",
    "using StaticArrays\n",
    "\n",
    "in_trj = Trajectory(\"/home/german/labo/18/contacto/aux/1mtn.pdb\")\n",
    "in_frm = read(in_trj)\n",
    "in_top = Topology(in_frm)\n",
    "coords = positions(in_frm)\n"
   ]
  },
  {
   "cell_type": "code",
   "execution_count": 4,
   "metadata": {},
   "outputs": [],
   "source": [
    "t_xyz = transpose(coords)\n",
    "x_min = minimum(t_xyz[:, 1])\n",
    "x_max = maximum(t_xyz[:, 1])\n",
    "y_min = minimum(t_xyz[:, 2])\n",
    "y_max = maximum(t_xyz[:, 2])\n",
    "z_min = minimum(t_xyz[:, 3])\n",
    "z_max = maximum(t_xyz[:, 3])\n",
    "\n",
    "ancho = x_max - x_min\n",
    "largo = y_max - y_min\n",
    "espesor = z_max - z_min\n",
    "ctro = [ x_min + ancho/2, y_min + largo/2,  z_min + espesor/2 ]\n",
    "dim = maximum([ancho ; largo ; espesor])\n",
    "contacto.Voxel(ctro, dim, 0)\n"
   ]
  },
  {
   "cell_type": "code",
   "execution_count": 6,
   "metadata": {},
   "outputs": [
    {
     "data": {
      "text/plain": [
       "54.1200008392334"
      ]
     },
     "execution_count": 6,
     "metadata": {},
     "output_type": "execute_result"
    }
   ],
   "source": [
    "dim"
   ]
  },
  {
   "cell_type": "code",
   "execution_count": 8,
   "metadata": {},
   "outputs": [
    {
     "data": {
      "text/plain": [
       "contacto.Voxel([-10.285, 26.1475, -25.168], [-10.285, 26.1475, -25.168], [-10.285, 26.1475, 28.952], [-10.285, 80.2675, -25.168], [-10.285, 80.2675, 28.952], [43.835, 26.1475, -25.168], [43.835, 26.1475, 28.952], [43.835, 80.2675, -25.168], [43.835, 80.2675, 28.952], 54.1200008392334, 0, contacto.Voxel(#undef, #undef, #undef, #undef, #undef, #undef, #undef, #undef, #undef, 2.1219957915e-314, 4294967297, #undef, #undef), contacto.Voxel[Voxel(#undef, #undef, #undef, #undef, #undef, #undef, #undef, #undef, #undef, 6.92616e-310, 140185661197840, #undef, #undef), Voxel(#undef, #undef, #undef, #undef, #undef, #undef, #undef, #undef, #undef, 6.92616e-310, 140185661197840, #undef, #undef), Voxel(#undef, #undef, #undef, #undef, #undef, #undef, #undef, #undef, #undef, 6.92616e-310, 140185661197840, #undef, #undef), Voxel(#undef, #undef, #undef, #undef, #undef, #undef, #undef, #undef, #undef, 6.92616e-310, 140185661197840, #undef, #undef), Voxel(#undef, #undef, #undef, #undef, #undef, #undef, #undef, #undef, #undef, 6.92616e-310, 140185661197840, #undef, #undef), Voxel(#undef, #undef, #undef, #undef, #undef, #undef, #undef, #undef, #undef, 6.92616e-310, 140185661197840, #undef, #undef), Voxel(#undef, #undef, #undef, #undef, #undef, #undef, #undef, #undef, #undef, 6.92616e-310, 140185661197840, #undef, #undef), Voxel(#undef, #undef, #undef, #undef, #undef, #undef, #undef, #undef, #undef, 6.92616e-310, 140185661197840, #undef, #undef)])"
      ]
     },
     "execution_count": 8,
     "metadata": {},
     "output_type": "execute_result"
    }
   ],
   "source": []
  },
  {
   "cell_type": "code",
   "execution_count": null,
   "metadata": {},
   "outputs": [],
   "source": [
    "sa = contacto.Voxel(ctro[1], ctro[2], ctro[3], dim)"
   ]
  },
  {
   "cell_type": "code",
   "execution_count": 10,
   "metadata": {},
   "outputs": [
    {
     "data": {
      "text/plain": [
       "54.1200008392334"
      ]
     },
     "execution_count": 10,
     "metadata": {},
     "output_type": "execute_result"
    }
   ],
   "source": [
    "Voxel(ctro, )"
   ]
  },
  {
   "cell_type": "code",
   "execution_count": 12,
   "metadata": {},
   "outputs": [
    {
     "data": {
      "text/plain": [
       "37.02000141143799"
      ]
     },
     "execution_count": 12,
     "metadata": {},
     "output_type": "execute_result"
    }
   ],
   "source": [
    "z_max - z_min"
   ]
  },
  {
   "cell_type": "code",
   "execution_count": null,
   "metadata": {},
   "outputs": [],
   "source": [
    "mutable struct OctTree\n",
    "    data::Array{Voxel, 1}\n",
    "    \n",
    "    function OctTree(coords::Array{Float64, 2})\n",
    "        if size(xyz)[1] != 3\n",
    "            error(\"Input coordiantes should be 3xN, where N is the number of atoms.\")\n",
    "        end\n",
    "        \n",
    "        t_xyz = transpose(coords)\n",
    "        x_min = minimum(t_xyz[:, 1])\n",
    "        x_max = maximum(t_xyz[:, 1])\n",
    "        y_min = minimum(t_xyz[:, 2])\n",
    "        y_max = maximum(t_xyz[:, 2])\n",
    "        z_min = minimum(t_xyz[:, 3])\n",
    "        z_max = maximum(t_xyz[:, 3])\n",
    "\n",
    "        ancho = x_max - x_min\n",
    "        largo = y_max - y_min\n",
    "        espesor = z_max - z_min\n",
    "        ctro = [ x_min + ancho/2, y_min + largo/2,  z_min + espesor/2 ]\n",
    "        dim = maximum([ancho ; largo ; espesor])\n",
    "        \n",
    "        Voxel()\n",
    "    end\n",
    "end"
   ]
  },
  {
   "cell_type": "code",
   "execution_count": 5,
   "metadata": {},
   "outputs": [
    {
     "ename": "ErrorException",
     "evalue": "invalid redefinition of constant Voxel",
     "output_type": "error",
     "traceback": [
      "invalid redefinition of constant Voxel",
      "",
      "Stacktrace:",
      " [1] top-level scope at none:0"
     ]
    }
   ],
   "source": []
  },
  {
   "cell_type": "code",
   "execution_count": 6,
   "metadata": {},
   "outputs": [
    {
     "ename": "ErrorException",
     "evalue": "`workspace()` is discontinued, consider Revise.jl for an alternative workflow.",
     "output_type": "error",
     "traceback": [
      "`workspace()` is discontinued, consider Revise.jl for an alternative workflow.",
      "",
      "Stacktrace:",
      " [1] error(::String) at ./error.jl:33",
      " [2] workspace() at ./deprecated.jl:1128",
      " [3] top-level scope at In[6]:1"
     ]
    }
   ],
   "source": [
    "workspace()"
   ]
  },
  {
   "cell_type": "code",
   "execution_count": 3,
   "metadata": {},
   "outputs": [
    {
     "data": {
      "text/plain": [
       "Voxel(6.9102101158707e-310, 1.0e-323, 7.953133e-318, 1.0e-323, 2, #undef, #undef, #undef, #undef, #undef, #undef, #undef, #undef, #undef)"
      ]
     },
     "execution_count": 3,
     "metadata": {},
     "output_type": "execute_result"
    }
   ],
   "source": [
    "as = Voxel()"
   ]
  },
  {
   "cell_type": "code",
   "execution_count": 4,
   "metadata": {},
   "outputs": [
    {
     "ename": "StackOverflowError",
     "evalue": "StackOverflowError:",
     "output_type": "error",
     "traceback": [
      "StackOverflowError:",
      "",
      "Stacktrace:",
      " [1] Voxel(::Float64, ::Float64, ::Float64, ::Float64) at ./In[2]:31 (repeats 80000 times)"
     ]
    }
   ],
   "source": [
    "sa = Voxel(1., 2., 3., 5.)"
   ]
  },
  {
   "cell_type": "code",
   "execution_count": 10,
   "metadata": {},
   "outputs": [
    {
     "ename": "UndefVarError",
     "evalue": "UndefVarError: AbstractNode not defined",
     "output_type": "error",
     "traceback": [
      "UndefVarError: AbstractNode not defined",
      "",
      "Stacktrace:",
      " [1] top-level scope at In[10]:1"
     ]
    }
   ],
   "source": [
    "Abstract"
   ]
  },
  {
   "cell_type": "code",
   "execution_count": 2,
   "metadata": {},
   "outputs": [
    {
     "data": {
      "text/plain": [
       "Array{Voxel,1}"
      ]
     },
     "execution_count": 2,
     "metadata": {},
     "output_type": "execute_result"
    }
   ],
   "source": [
    "Array{Voxel, 1}"
   ]
  },
  {
   "cell_type": "code",
   "execution_count": null,
   "metadata": {},
   "outputs": [],
   "source": [
    ", level, parent, \n",
    "        child_xyz, child_xyZ, child_xYz, child_xYZ,\n",
    "        child_Xyz, child_XyZ, child_XYz, child_XYZ"
   ]
  }
 ],
 "metadata": {
  "kernelspec": {
   "display_name": "Julia 0.7.0",
   "language": "julia",
   "name": "julia-0.7"
  },
  "language_info": {
   "file_extension": ".jl",
   "mimetype": "application/julia",
   "name": "julia",
   "version": "0.7.0"
  }
 },
 "nbformat": 4,
 "nbformat_minor": 2
}
